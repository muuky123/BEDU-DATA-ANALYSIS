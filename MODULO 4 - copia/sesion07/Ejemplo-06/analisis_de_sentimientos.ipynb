{
 "cells": [
  {
   "cell_type": "markdown",
   "metadata": {},
   "source": [
    "## Ejemplo 6: Análisis de Sentimientos\n",
    "\n",
    "### 1. Objetivos:\n",
    "    - Aprender a realizar un análisis de sentimientos utilizando TextBlob\n",
    "    \n",
    "---\n",
    "    \n",
    "### 2. Desarrollo:"
   ]
  },
  {
   "cell_type": "markdown",
   "metadata": {},
   "source": [
    "El análisis de sentimientos se refiere al uso del procesamiento de lenguaje natural para identificar y extraer información subjetiva de nuestros textos. La información subjetiva tiene que ver con los afectos: desde un punto de vista subjetivo, ¿qué tan positiva o negativa es esta oración?\n",
    "\n",
    "Hoy en día se utiliza machine learning para hacer análisis de sentimientos, pero como método de introducción al tema, nosotros vamos a utilizar una librería llamada `TextBlob`. `TextBlob` está construida sobre `nltk` y nos da una interfaz sumamente sencilla para realizar análisis de sentimientos. Exploremos un poco nuestro dataset con esta herramienta.\n",
    "\n",
    "> Lamentablemente, TextBlob sólo puede realizar análisis de sentimientos en inglés, alemán y francés. Es posible traducir de español a inglés usando TextBlob, aunque los resultados no son enteramente satisfactorios."
   ]
  },
  {
   "cell_type": "code",
   "execution_count": null,
   "metadata": {},
   "outputs": [],
   "source": [
    "import pandas as pd\n",
    "import nltk\n",
    "import seaborn as sns\n",
    "import matplotlib.pyplot as plt\n",
    "import numpy as np"
   ]
  },
  {
   "cell_type": "code",
   "execution_count": null,
   "metadata": {},
   "outputs": [],
   "source": [
    "df = pd.read_json('../../Datasets/new_york_times_bestsellers-clean.json')\n",
    "\n",
    "df.head()"
   ]
  },
  {
   "cell_type": "code",
   "execution_count": null,
   "metadata": {},
   "outputs": [],
   "source": [
    "grouped_by_title = df.groupby('title')['description'].max()\n",
    "grouped_by_title = grouped_by_title.str.lower()\n",
    "grouped_by_title = grouped_by_title.str.strip()\n",
    "grouped_by_title = grouped_by_title.str.replace('[^\\w\\s]', '')\n",
    "grouped_by_title = grouped_by_title.str.replace('\\d', '')\n",
    "grouped_by_title = grouped_by_title.str.replace('\\\\n', '')\n",
    "grouped_by_title = grouped_by_title.dropna()"
   ]
  },
  {
   "cell_type": "markdown",
   "metadata": {},
   "source": [
    "Ahora, para poder utilizar `textBlob` hay que correr los siguientes comandos:\n",
    "\n",
    "`pip install textblob`\n",
    "\n",
    "`python3 -m textblob.download_corpora`"
   ]
  },
  {
   "cell_type": "code",
   "execution_count": null,
   "metadata": {},
   "outputs": [],
   "source": [
    "from textblob import TextBlob"
   ]
  },
  {
   "cell_type": "code",
   "execution_count": null,
   "metadata": {},
   "outputs": [],
   "source": [
    "# Crear un objeto TextBlob\n",
    "\n",
    "TextBlob(grouped_by_title.iloc[100])"
   ]
  },
  {
   "cell_type": "code",
   "execution_count": null,
   "metadata": {},
   "outputs": [],
   "source": [
    "# Obteniendo análisis de sentimientos\n",
    "\n",
    "TextBlob(grouped_by_title.iloc[100]).sentiment"
   ]
  },
  {
   "cell_type": "markdown",
   "metadata": {},
   "source": [
    "'polarity' va de -1 a 1, -1 siendo extremadamente negativo y 1 siendo extremadamente positivo.\n",
    "\n",
    "'subjectivity' va de 0 a 1, 0 siendo muy objetivo y 1 siendo muy subjetivo."
   ]
  },
  {
   "cell_type": "code",
   "execution_count": null,
   "metadata": {},
   "outputs": [],
   "source": [
    "# Vamos a crear una columna que nos indique la polaridad de todas nuestras descripciones\n",
    "\n",
    "polarity = grouped_by_title.apply(lambda x: TextBlob(x).sentiment.polarity)\n",
    "polarity.name = 'polarity'"
   ]
  },
  {
   "cell_type": "code",
   "execution_count": null,
   "metadata": {},
   "outputs": [],
   "source": [
    "df_with_polarity = pd.concat([grouped_by_title, polarity], axis=1)"
   ]
  },
  {
   "cell_type": "code",
   "execution_count": null,
   "metadata": {},
   "outputs": [],
   "source": [
    "# Vamos a eliminar las polaridades neutrales\n",
    "\n",
    "df_with_polarity['polarity'] != 0"
   ]
  },
  {
   "cell_type": "code",
   "execution_count": null,
   "metadata": {},
   "outputs": [],
   "source": [
    "no_neutral = df_with_polarity[df_with_polarity['polarity'] != 0]"
   ]
  },
  {
   "cell_type": "code",
   "execution_count": null,
   "metadata": {},
   "outputs": [],
   "source": [
    "sns.displot(no_neutral['polarity'], kde=False);"
   ]
  },
  {
   "cell_type": "code",
   "execution_count": null,
   "metadata": {},
   "outputs": [],
   "source": [
    "sns.boxplot(x=no_neutral['polarity']);"
   ]
  },
  {
   "cell_type": "code",
   "execution_count": null,
   "metadata": {},
   "outputs": [],
   "source": [
    "no_neutral[no_neutral['polarity'] > 0.75]['description']"
   ]
  },
  {
   "cell_type": "code",
   "execution_count": null,
   "metadata": {},
   "outputs": [],
   "source": [
    "# Como puedes ver, al modelo no es muy exacto. Esta descripción, por ejemplo, no es en realidad feliz\n",
    "\n",
    "no_neutral.loc[\"LOVE THE ONE YOU'RE WITH\", 'description']"
   ]
  },
  {
   "cell_type": "code",
   "execution_count": null,
   "metadata": {},
   "outputs": [],
   "source": [
    "no_neutral.loc[\"LOVE THE ONE YOU'RE WITH\", 'polarity']"
   ]
  },
  {
   "cell_type": "code",
   "execution_count": null,
   "metadata": {},
   "outputs": [],
   "source": [
    "no_neutral[no_neutral['polarity'] < -0.75]['description']"
   ]
  },
  {
   "cell_type": "code",
   "execution_count": null,
   "metadata": {},
   "outputs": [],
   "source": [
    "# Esta sí es una descripción con bastantes tintes negativos\n",
    "\n",
    "no_neutral.loc[\"KINDRED IN DEATH\", 'description']"
   ]
  },
  {
   "cell_type": "code",
   "execution_count": null,
   "metadata": {},
   "outputs": [],
   "source": [
    "no_neutral.loc[\"KINDRED IN DEATH\", 'polarity']"
   ]
  },
  {
   "cell_type": "markdown",
   "metadata": {},
   "source": [
    "Hoy en día existen modelos mucho más precisos para realizar análisis de sentimientos, todos ellos utilizando machine learning para el entrenamiento. Aunque `TextBlob` es algo viejo y por lo tanto no muy preciso, resulta útil para realizar análisis rápidos y generales de nuestros datos."
   ]
  }
 ],
 "metadata": {
  "kernelspec": {
   "display_name": "Python 3",
   "language": "python",
   "name": "python3"
  },
  "language_info": {
   "codemirror_mode": {
    "name": "ipython",
    "version": 3
   },
   "file_extension": ".py",
   "mimetype": "text/x-python",
   "name": "python",
   "nbconvert_exporter": "python",
   "pygments_lexer": "ipython3",
   "version": "3.8.5"
  }
 },
 "nbformat": 4,
 "nbformat_minor": 4
}
