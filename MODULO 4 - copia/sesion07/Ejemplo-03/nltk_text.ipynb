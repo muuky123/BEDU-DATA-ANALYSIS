{
 "cells": [
  {
   "cell_type": "markdown",
   "metadata": {},
   "source": [
    "## Ejemplo 3: Nltk Text\n",
    "\n",
    "### 1. Objetivos:\n",
    "    - Aprender a usar el objeto Text de la biblioteca Nltk\n",
    " \n",
    "---\n",
    "    \n",
    "### 2. Desarrollo:"
   ]
  },
  {
   "cell_type": "markdown",
   "metadata": {},
   "source": [
    "Vamos a utilizar la librería Nltk para explorar algunas técnicas básicas de procesamiento de lenguaje natural. Muchos de estos procedimientos normalmente sirven para preparar nuestros datos para entrenar un modelo o para realizar una visualización."
   ]
  },
  {
   "cell_type": "code",
   "execution_count": 28,
   "metadata": {
    "tags": []
   },
   "outputs": [
    {
     "name": "stdout",
     "output_type": "stream",
     "text": [
      "Requirement already satisfied: nltk in d:\\phyton\\lib\\site-packages (3.6.2)\n",
      "Requirement already satisfied: tqdm in d:\\phyton\\lib\\site-packages (from nltk) (4.54.1)\n",
      "Requirement already satisfied: regex in d:\\phyton\\lib\\site-packages (from nltk) (2021.8.3)\n",
      "Requirement already satisfied: click in d:\\phyton\\lib\\site-packages (from nltk) (8.0.1)\n",
      "Requirement already satisfied: joblib in d:\\phyton\\lib\\site-packages (from nltk) (1.0.1)\n",
      "Requirement already satisfied: colorama in d:\\phyton\\lib\\site-packages (from click->nltk) (0.4.4)\n"
     ]
    }
   ],
   "source": [
    "!pip install nltk"
   ]
  },
  {
   "cell_type": "code",
   "execution_count": 34,
   "metadata": {},
   "outputs": [
    {
     "name": "stderr",
     "output_type": "stream",
     "text": [
      "[nltk_data] Downloading package stopwords to C:\\Users\\KITZYA BOON\n",
      "[nltk_data]     ELIZALDE\\AppData\\Roaming\\nltk_data...\n",
      "[nltk_data]   Unzipping corpora\\stopwords.zip.\n"
     ]
    },
    {
     "data": {
      "text/plain": [
       "True"
      ]
     },
     "execution_count": 34,
     "metadata": {},
     "output_type": "execute_result"
    }
   ],
   "source": [
    "nltk.download('stopwords')"
   ]
  },
  {
   "cell_type": "code",
   "execution_count": 29,
   "metadata": {},
   "outputs": [],
   "source": [
    "import pandas as pd\n",
    "import nltk\n",
    "import seaborn as sns\n",
    "import matplotlib.pyplot as plt\n",
    "import numpy as np"
   ]
  },
  {
   "cell_type": "code",
   "execution_count": 5,
   "metadata": {},
   "outputs": [
    {
     "data": {
      "text/html": [
       "<div>\n",
       "<style scoped>\n",
       "    .dataframe tbody tr th:only-of-type {\n",
       "        vertical-align: middle;\n",
       "    }\n",
       "\n",
       "    .dataframe tbody tr th {\n",
       "        vertical-align: top;\n",
       "    }\n",
       "\n",
       "    .dataframe thead th {\n",
       "        text-align: right;\n",
       "    }\n",
       "</style>\n",
       "<table border=\"1\" class=\"dataframe\">\n",
       "  <thead>\n",
       "    <tr style=\"text-align: right;\">\n",
       "      <th></th>\n",
       "      <th>amazon_product_url</th>\n",
       "      <th>author</th>\n",
       "      <th>description</th>\n",
       "      <th>publisher</th>\n",
       "      <th>title</th>\n",
       "      <th>oid</th>\n",
       "      <th>bestsellers_date.numberLong</th>\n",
       "      <th>published_date.numberLong</th>\n",
       "      <th>rank.numberInt</th>\n",
       "      <th>rank_last_week.numberInt</th>\n",
       "      <th>weeks_on_list.numberInt</th>\n",
       "      <th>price.numberDouble</th>\n",
       "    </tr>\n",
       "  </thead>\n",
       "  <tbody>\n",
       "    <tr>\n",
       "      <th>0</th>\n",
       "      <td>http://www.amazon.com/The-Host-Novel-Stephenie...</td>\n",
       "      <td>Stephenie Meyer</td>\n",
       "      <td>Aliens have taken control of the minds and bod...</td>\n",
       "      <td>Little, Brown</td>\n",
       "      <td>THE HOST</td>\n",
       "      <td>5b4aa4ead3089013507db18c</td>\n",
       "      <td>1211587200000</td>\n",
       "      <td>1212883200000</td>\n",
       "      <td>2</td>\n",
       "      <td>1</td>\n",
       "      <td>3</td>\n",
       "      <td>25.99</td>\n",
       "    </tr>\n",
       "    <tr>\n",
       "      <th>1</th>\n",
       "      <td>http://www.amazon.com/Love-Youre-With-Emily-Gi...</td>\n",
       "      <td>Emily Giffin</td>\n",
       "      <td>A woman's happy marriage is shaken when she en...</td>\n",
       "      <td>St. Martin's</td>\n",
       "      <td>LOVE THE ONE YOU'RE WITH</td>\n",
       "      <td>5b4aa4ead3089013507db18d</td>\n",
       "      <td>1211587200000</td>\n",
       "      <td>1212883200000</td>\n",
       "      <td>3</td>\n",
       "      <td>2</td>\n",
       "      <td>2</td>\n",
       "      <td>24.95</td>\n",
       "    </tr>\n",
       "    <tr>\n",
       "      <th>2</th>\n",
       "      <td>http://www.amazon.com/The-Front-Garano-Patrici...</td>\n",
       "      <td>Patricia Cornwell</td>\n",
       "      <td>A Massachusetts state investigator and his tea...</td>\n",
       "      <td>Putnam</td>\n",
       "      <td>THE FRONT</td>\n",
       "      <td>5b4aa4ead3089013507db18e</td>\n",
       "      <td>1211587200000</td>\n",
       "      <td>1212883200000</td>\n",
       "      <td>4</td>\n",
       "      <td>0</td>\n",
       "      <td>1</td>\n",
       "      <td>22.95</td>\n",
       "    </tr>\n",
       "    <tr>\n",
       "      <th>3</th>\n",
       "      <td>http://www.amazon.com/Snuff-Chuck-Palahniuk/dp...</td>\n",
       "      <td>Chuck Palahniuk</td>\n",
       "      <td>An aging porn queens aims to cap her career by...</td>\n",
       "      <td>Doubleday</td>\n",
       "      <td>SNUFF</td>\n",
       "      <td>5b4aa4ead3089013507db18f</td>\n",
       "      <td>1211587200000</td>\n",
       "      <td>1212883200000</td>\n",
       "      <td>5</td>\n",
       "      <td>0</td>\n",
       "      <td>1</td>\n",
       "      <td>24.95</td>\n",
       "    </tr>\n",
       "    <tr>\n",
       "      <th>4</th>\n",
       "      <td>http://www.amazon.com/Sundays-at-Tiffanys-Jame...</td>\n",
       "      <td>James Patterson and Gabrielle Charbonnet</td>\n",
       "      <td>A woman finds an unexpected love</td>\n",
       "      <td>Little, Brown</td>\n",
       "      <td>SUNDAYS AT TIFFANY’S</td>\n",
       "      <td>5b4aa4ead3089013507db190</td>\n",
       "      <td>1211587200000</td>\n",
       "      <td>1212883200000</td>\n",
       "      <td>6</td>\n",
       "      <td>3</td>\n",
       "      <td>4</td>\n",
       "      <td>24.99</td>\n",
       "    </tr>\n",
       "  </tbody>\n",
       "</table>\n",
       "</div>"
      ],
      "text/plain": [
       "                                  amazon_product_url  \\\n",
       "0  http://www.amazon.com/The-Host-Novel-Stephenie...   \n",
       "1  http://www.amazon.com/Love-Youre-With-Emily-Gi...   \n",
       "2  http://www.amazon.com/The-Front-Garano-Patrici...   \n",
       "3  http://www.amazon.com/Snuff-Chuck-Palahniuk/dp...   \n",
       "4  http://www.amazon.com/Sundays-at-Tiffanys-Jame...   \n",
       "\n",
       "                                     author  \\\n",
       "0                           Stephenie Meyer   \n",
       "1                              Emily Giffin   \n",
       "2                         Patricia Cornwell   \n",
       "3                           Chuck Palahniuk   \n",
       "4  James Patterson and Gabrielle Charbonnet   \n",
       "\n",
       "                                         description      publisher  \\\n",
       "0  Aliens have taken control of the minds and bod...  Little, Brown   \n",
       "1  A woman's happy marriage is shaken when she en...   St. Martin's   \n",
       "2  A Massachusetts state investigator and his tea...         Putnam   \n",
       "3  An aging porn queens aims to cap her career by...      Doubleday   \n",
       "4                   A woman finds an unexpected love  Little, Brown   \n",
       "\n",
       "                      title                       oid  \\\n",
       "0                  THE HOST  5b4aa4ead3089013507db18c   \n",
       "1  LOVE THE ONE YOU'RE WITH  5b4aa4ead3089013507db18d   \n",
       "2                 THE FRONT  5b4aa4ead3089013507db18e   \n",
       "3                     SNUFF  5b4aa4ead3089013507db18f   \n",
       "4      SUNDAYS AT TIFFANY’S  5b4aa4ead3089013507db190   \n",
       "\n",
       "   bestsellers_date.numberLong  published_date.numberLong  rank.numberInt  \\\n",
       "0                1211587200000              1212883200000               2   \n",
       "1                1211587200000              1212883200000               3   \n",
       "2                1211587200000              1212883200000               4   \n",
       "3                1211587200000              1212883200000               5   \n",
       "4                1211587200000              1212883200000               6   \n",
       "\n",
       "   rank_last_week.numberInt  weeks_on_list.numberInt  price.numberDouble  \n",
       "0                         1                        3               25.99  \n",
       "1                         2                        2               24.95  \n",
       "2                         0                        1               22.95  \n",
       "3                         0                        1               24.95  \n",
       "4                         3                        4               24.99  "
      ]
     },
     "execution_count": 5,
     "metadata": {},
     "output_type": "execute_result"
    }
   ],
   "source": [
    "df = pd.read_json('../../Datasets/new_york_times_bestsellers-clean.json')\n",
    "\n",
    "df.head()"
   ]
  },
  {
   "cell_type": "code",
   "execution_count": 6,
   "metadata": {},
   "outputs": [
    {
     "data": {
      "text/plain": [
       "title\n",
       "10TH ANNIVERSARY            Detective Lindsay Boxer and the Women’s Murder...\n",
       "11TH HOUR                   Detective Lindsay Boxer and the Women’s Murder...\n",
       "1225 CHRISTMAS TREE LANE    Puppies and an ex-husband loom large in the la...\n",
       "1356                        In the fourth book of the Grail Quest series, ...\n",
       "1Q84                        In 1980s Tokyo, a woman who punishes perpetrat...\n",
       "                                                  ...                        \n",
       "Z                           A novel based on the lives of Zelda and F. Sco...\n",
       "ZERO DAY                       A military investigator uncovers a conspiracy.\n",
       "ZERO HISTORY                Several characters from “Spook Country” return...\n",
       "ZONE ONE                      Fighting zombies in post-apocalyptic Manhattan.\n",
       "ZOO                         A young biologist warns world leaders about th...\n",
       "Name: description, Length: 754, dtype: object"
      ]
     },
     "execution_count": 6,
     "metadata": {},
     "output_type": "execute_result"
    }
   ],
   "source": [
    "grouped_by_title = df.groupby('title')['description'].max()\n",
    "\n",
    "grouped_by_title"
   ]
  },
  {
   "cell_type": "markdown",
   "metadata": {},
   "source": [
    "Primero hay que limpiar un poco nuestros textos:"
   ]
  },
  {
   "cell_type": "code",
   "execution_count": 7,
   "metadata": {},
   "outputs": [
    {
     "name": "stderr",
     "output_type": "stream",
     "text": [
      "<ipython-input-7-7b19dfa1992e>:3: FutureWarning: The default value of regex will change from True to False in a future version.\n",
      "  grouped_by_title = grouped_by_title.str.replace('[^\\w\\s]', '')\n",
      "<ipython-input-7-7b19dfa1992e>:4: FutureWarning: The default value of regex will change from True to False in a future version.\n",
      "  grouped_by_title = grouped_by_title.str.replace('\\d', '')\n",
      "<ipython-input-7-7b19dfa1992e>:5: FutureWarning: The default value of regex will change from True to False in a future version.\n",
      "  grouped_by_title = grouped_by_title.str.replace('\\\\n', '')\n"
     ]
    },
    {
     "data": {
      "text/plain": [
       "title\n",
       "10TH ANNIVERSARY            detective lindsay boxer and the womens murder ...\n",
       "11TH HOUR                   detective lindsay boxer and the womens murder ...\n",
       "1225 CHRISTMAS TREE LANE    puppies and an exhusband loom large in the las...\n",
       "1356                        in the fourth book of the grail quest series t...\n",
       "1Q84                        in s tokyo a woman who punishes perpetrators o...\n",
       "                                                  ...                        \n",
       "Z                           a novel based on the lives of zelda and f scot...\n",
       "ZERO DAY                        a military investigator uncovers a conspiracy\n",
       "ZERO HISTORY                several characters from spook country return t...\n",
       "ZONE ONE                        fighting zombies in postapocalyptic manhattan\n",
       "ZOO                         a young biologist warns world leaders about th...\n",
       "Name: description, Length: 754, dtype: object"
      ]
     },
     "execution_count": 7,
     "metadata": {},
     "output_type": "execute_result"
    }
   ],
   "source": [
    "grouped_by_title = grouped_by_title.str.lower()\n",
    "grouped_by_title = grouped_by_title.str.strip()\n",
    "grouped_by_title = grouped_by_title.str.replace('[^\\w\\s]', '')\n",
    "grouped_by_title = grouped_by_title.str.replace('\\d', '')\n",
    "grouped_by_title = grouped_by_title.str.replace('\\\\n', '')\n",
    "grouped_by_title = grouped_by_title.dropna()\n",
    "\n",
    "grouped_by_title"
   ]
  },
  {
   "cell_type": "markdown",
   "metadata": {},
   "source": [
    "Ahora, vamos a construir un objeto Text con nuestros datos. Primero que nada necesitamos descargar algunas bibliotecas que requiere `nltk` para funcionar. Ve a tu terminal, abre python, importa nltk y usa el siguiente comando:\n",
    "\n",
    "`nltk.download('punkt')`\n",
    "\n",
    "Ahora sí, estamos listos:"
   ]
  },
  {
   "cell_type": "code",
   "execution_count": 32,
   "metadata": {},
   "outputs": [
    {
     "name": "stderr",
     "output_type": "stream",
     "text": [
      "[nltk_data] Downloading package punkt to C:\\Users\\KITZYA BOON\n",
      "[nltk_data]     ELIZALDE\\AppData\\Roaming\\nltk_data...\n",
      "[nltk_data]   Package punkt is already up-to-date!\n"
     ]
    },
    {
     "data": {
      "text/plain": [
       "True"
      ]
     },
     "execution_count": 32,
     "metadata": {},
     "output_type": "execute_result"
    }
   ],
   "source": [
    "nltk.download('punkt')"
   ]
  },
  {
   "cell_type": "code",
   "execution_count": 9,
   "metadata": {},
   "outputs": [],
   "source": [
    "# Separamos cada oración en palabras\n",
    "\n",
    "tokenized = grouped_by_title.apply(nltk.word_tokenize)"
   ]
  },
  {
   "cell_type": "code",
   "execution_count": 10,
   "metadata": {},
   "outputs": [
    {
     "data": {
      "text/plain": [
       "title\n",
       "10TH ANNIVERSARY            [detective, lindsay, boxer, and, the, womens, ...\n",
       "11TH HOUR                   [detective, lindsay, boxer, and, the, womens, ...\n",
       "1225 CHRISTMAS TREE LANE    [puppies, and, an, exhusband, loom, large, in,...\n",
       "1356                        [in, the, fourth, book, of, the, grail, quest,...\n",
       "1Q84                        [in, s, tokyo, a, woman, who, punishes, perpet...\n",
       "                                                  ...                        \n",
       "Z                           [a, novel, based, on, the, lives, of, zelda, a...\n",
       "ZERO DAY                    [a, military, investigator, uncovers, a, consp...\n",
       "ZERO HISTORY                [several, characters, from, spook, country, re...\n",
       "ZONE ONE                    [fighting, zombies, in, postapocalyptic, manha...\n",
       "ZOO                         [a, young, biologist, warns, world, leaders, a...\n",
       "Name: description, Length: 754, dtype: object"
      ]
     },
     "execution_count": 10,
     "metadata": {},
     "output_type": "execute_result"
    }
   ],
   "source": [
    "tokenized"
   ]
  },
  {
   "cell_type": "code",
   "execution_count": 11,
   "metadata": {},
   "outputs": [
    {
     "data": {
      "text/plain": [
       "<Text: detective lindsay boxer and the womens murder club...>"
      ]
     },
     "execution_count": 11,
     "metadata": {},
     "output_type": "execute_result"
    }
   ],
   "source": [
    "# Sumamos todas las listas para obtener una lista con todas las palabras en nuestro conjunto de datos\n",
    "# Creamos un objeto Text\n",
    "\n",
    "all_words = tokenized.sum()\n",
    "text = nltk.Text(all_words)\n",
    "\n",
    "text"
   ]
  },
  {
   "cell_type": "code",
   "execution_count": 12,
   "metadata": {},
   "outputs": [
    {
     "name": "stdout",
     "output_type": "stream",
     "text": [
      "Displaying 20 of 60 matches:\n",
      " the battle of poitiers in s tokyo a woman who punishes perpetrators of domesti\n",
      "of mishandling an autopsy a pregnant woman shows up in cedar cove on christmas \n",
      "e nothing is as it seems a middleage woman takes a crosscountry road trip with \n",
      "ment a young beautiful and ambitious woman ruthlessly ascends the heights of th\n",
      "ring of humans and heavenly beings a woman in her late s marries the man of her\n",
      "e ichidian universe a smuggler and a woman warrior must fight together to survi\n",
      "paloosa trilogy two lawmen protect a woman one of them loves in frenchs fourth \n",
      "e an arcane society novel a southern woman is forever changed by the betrayals \n",
      "illipss earlier novels reappear as a woman persuades a friend to call off her w\n",
      "plot to kill thousands of citizens a woman asks the boston detective dd warren \n",
      "arker in pursuing a dangerous case a woman joins with her estranged former step\n",
      "texas fbi agent falls in love with a woman with a past lara callandine an exper\n",
      " wealthy connecticut town a divorced woman takes a job as an assistant to a fam\n",
      "eings twentytwo years after a dublin woman stood up her intended groom her aban\n",
      "ikki heat investigates the case of a woman whose body is found in a freezer the\n",
      " crime book of the forerunner saga a woman whose daughter has a dangerous birth\n",
      "the conclusion to her mothers hope a woman haunts the flat shes left to her twi\n",
      "ees with her master to new orleans a woman haunted by the disappearance of her \n",
      " high school principal is murdered a woman looking for a change begins a relati\n",
      "from her exploitive criminal uncle a woman is challenged when her musician husb\n"
     ]
    }
   ],
   "source": [
    "text.concordance('woman', lines=20)"
   ]
  },
  {
   "cell_type": "code",
   "execution_count": 13,
   "metadata": {
    "scrolled": true
   },
   "outputs": [
    {
     "name": "stdout",
     "output_type": "stream",
     "text": [
      "man widow killer series war case doctor yearold friend boy target\n",
      "yacht murder nanny group secret witch massacre mystery family\n"
     ]
    }
   ],
   "source": [
    "# similar te regresa las palabras que aparecen en contextos similares al argumento\n",
    "\n",
    "text.similar('woman')"
   ]
  },
  {
   "cell_type": "code",
   "execution_count": 14,
   "metadata": {},
   "outputs": [
    {
     "name": "stdout",
     "output_type": "stream",
     "text": [
      "murder war love crimes killer battle resent administration eve life\n",
      "recovery night state summer eyes wheel mother daughter author secrets\n"
     ]
    }
   ],
   "source": [
    "text.similar('women')"
   ]
  },
  {
   "cell_type": "code",
   "execution_count": 15,
   "metadata": {},
   "outputs": [
    {
     "name": "stdout",
     "output_type": "stream",
     "text": [
      "Displaying 20 of 35 matches:\n",
      "ngs a woman in her late s marries the man of her dreams and reaches out to his \n",
      "tar hides his male lover a former hit man for the mob who has become a doctor i\n",
      "y the betrayals of her mother and the man she loves intrigue on the planet safe\n",
      "a in two agents are tracking the same man a human trafficker who is now dealing\n",
      "lorida for a missing girl and the con man who seduced her a runaway girl and th\n",
      "s deployed to iraq a distraught young man discovers that he has grown horns a s\n",
      " empire of charis fights to survive a man who kidnapped a yearold girl contacts\n",
      "and cia stand in his way when a young man finds a bag of diamonds he gets the a\n",
      "stigator maisie dobbs helps an indian man whose sisters murder has been ignored\n",
      "al attacks a woman her daughter and a man accused of murder evade the authoriti\n",
      "ooper becomes involved when a wealthy man assaults a maid in a manhattan hotel \n",
      "d as christmas nears a terminally ill man is preparing his family for his death\n",
      "n involved before the fbi can after a man stumbles in front of the reporter mel\n",
      "er the woman he loved married another man jake fisher discovers that neither sh\n",
      "cheats on his wives sends an innocent man to jail and tries to cash in on anoth\n",
      "ce brennan investigates the case of a man who seems to have died twice jesse st\n",
      "tor eve duncan undertakes a job for a man with dark secrets the first book in a\n",
      "murder at a remote abbey a middleaged man mourning his wifes death is comforted\n",
      "ter their high school romance ended a man and woman who have gone their separat\n",
      "s to see whether they can find love a man changes his life after he reads his o\n"
     ]
    }
   ],
   "source": [
    "text.concordance('man', lines=20)"
   ]
  },
  {
   "cell_type": "code",
   "execution_count": 16,
   "metadata": {},
   "outputs": [
    {
     "name": "stdout",
     "output_type": "stream",
     "text": [
      "killer woman widow murder war mystery case yearold vampire\n",
      "disappearance target murderer yacht priest detective baby series\n",
      "battle administration eve\n"
     ]
    }
   ],
   "source": [
    "text.similar('man')"
   ]
  },
  {
   "cell_type": "code",
   "execution_count": 17,
   "metadata": {},
   "outputs": [
    {
     "name": "stdout",
     "output_type": "stream",
     "text": [
      "s french president west truth culprit males governor\n"
     ]
    }
   ],
   "source": [
    "text.similar('men')"
   ]
  },
  {
   "cell_type": "code",
   "execution_count": 18,
   "metadata": {},
   "outputs": [
    {
     "name": "stdout",
     "output_type": "stream",
     "text": [
      "a_in a_with a_who\n"
     ]
    }
   ],
   "source": [
    "# common_contexts regresa los contextos que comparten dos o más palabras\n",
    "\n",
    "text.common_contexts(['woman', 'man'])"
   ]
  },
  {
   "cell_type": "code",
   "execution_count": 19,
   "metadata": {},
   "outputs": [
    {
     "data": {
      "image/png": "[encoded data removed]",
      "text/plain": [
       "<Figure size 432x288 with 1 Axes>"
      ]
     },
     "metadata": {
      "needs_background": "light"
     },
     "output_type": "display_data"
    }
   ],
   "source": [
    "# En este caso una gráfica de dispersión no tiene mucho sentido, pero así es como se produce\n",
    "\n",
    "text.dispersion_plot(['woman', 'man'])"
   ]
  },
  {
   "cell_type": "code",
   "execution_count": 20,
   "metadata": {},
   "outputs": [
    {
     "name": "stdout",
     "output_type": "stream",
     "text": [
      "on a global criminal enterprise behind a murder investigation a young\n",
      "mans mysterious death in juan cabrillo and the age of flying machines\n",
      "is still in its infancy detective isaac bells new adventure is taking\n",
      "off malcolm bannister an imprisoned exlawyer knows who murdered a\n",
      "federal agent is targeted for death but by whom a contingent of\n",
      "arcosian descendants plan to help his mother the witch rachel morgan\n",
      "book an army officer and a rival assassin who is bound for the\n",
      "forensic sculptor eve duncan investigates when her clients start\n",
      "getting murdered one by one a war erupts between old\n",
      "on a global criminal enterprise behind a murder investigation a young\n",
      "mans mysterious death in juan cabrillo and the age of flying machines\n",
      "is still in its infancy detective isaac bells new adventure is taking\n",
      "off malcolm bannister an imprisoned exlawyer knows who murdered a\n",
      "federal agent is targeted for death but by whom a contingent of\n",
      "arcosian descendants plan to help his mother the witch rachel morgan\n",
      "book an army officer and a rival assassin who is bound for the\n",
      "forensic sculptor eve duncan investigates when her clients start\n",
      "getting murdered one by one a war erupts between old\n"
     ]
    },
    {
     "name": "stderr",
     "output_type": "stream",
     "text": [
      "Building ngram index...\n"
     ]
    }
   ],
   "source": [
    "# Podemos también generar texto que intenta imitar el estilo de nuestro conjunto de datos\n",
    "\n",
    "print(text.generate())"
   ]
  },
  {
   "cell_type": "code",
   "execution_count": 21,
   "metadata": {},
   "outputs": [
    {
     "data": {
      "text/plain": [
       "12569"
      ]
     },
     "execution_count": 21,
     "metadata": {},
     "output_type": "execute_result"
    }
   ],
   "source": [
    "# Total de palabras\n",
    "\n",
    "len(text)"
   ]
  },
  {
   "cell_type": "code",
   "execution_count": 22,
   "metadata": {},
   "outputs": [
    {
     "data": {
      "text/plain": [
       "3161"
      ]
     },
     "execution_count": 22,
     "metadata": {},
     "output_type": "execute_result"
    }
   ],
   "source": [
    "# Total de palabras distintas\n",
    "\n",
    "len(set(text))"
   ]
  },
  {
   "cell_type": "code",
   "execution_count": 26,
   "metadata": {},
   "outputs": [
    {
     "data": {
      "text/plain": [
       "0.2514917654546901"
      ]
     },
     "execution_count": 26,
     "metadata": {},
     "output_type": "execute_result"
    }
   ],
   "source": [
    "# Cuantificando la riqueza léxica\n",
    "\n",
    "len(set(text)) / len(text)"
   ]
  },
  {
   "cell_type": "code",
   "execution_count": 35,
   "metadata": {},
   "outputs": [
    {
     "name": "stdout",
     "output_type": "stream",
     "text": [
      "new york; serial killer; stone barrington; los angeles; writing\n",
      "pseudonymously; nora roberts; roberts writing; eve dallas; sookie\n",
      "stackhouse; anita blake; dagger brotherhood; doc ford; jason bourne;\n",
      "lacey sherlock; mitch rapp; temperance brennan; forensic sculptor;\n",
      "alex cross; robert ludlums; san francisco\n"
     ]
    }
   ],
   "source": [
    "# Las colocaciones son pares de palabras (bigramas) que son inusualmente comunes en nuestro conjunto de datos\n",
    "\n",
    "text.collocations()"
   ]
  },
  {
   "cell_type": "code",
   "execution_count": null,
   "metadata": {},
   "outputs": [],
   "source": []
  }
 ],
 "metadata": {
  "kernelspec": {
   "display_name": "Python 3",
   "language": "python",
   "name": "python3"
  },
  "language_info": {
   "codemirror_mode": {
    "name": "ipython",
    "version": 3
   },
   "file_extension": ".py",
   "mimetype": "text/x-python",
   "name": "python",
   "nbconvert_exporter": "python",
   "pygments_lexer": "ipython3",
   "version": "3.9.1"
  }
 },
 "nbformat": 4,
 "nbformat_minor": 4
}
