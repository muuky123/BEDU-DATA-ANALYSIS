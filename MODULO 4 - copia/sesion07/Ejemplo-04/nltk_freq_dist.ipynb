{
 "cells": [
  {
   "cell_type": "markdown",
   "metadata": {},
   "source": [
    "## Ejemplo 4: Nltk FreqDist\n",
    "\n",
    "### 1. Objetivos:\n",
    "    - Aprender a usar el objeto FreqDist de la librería Nltk\n",
    " \n",
    "---\n",
    "    \n",
    "### 2. Desarrollo:"
   ]
  },
  {
   "cell_type": "markdown",
   "metadata": {},
   "source": [
    "Ahora vamos a explorar el objeto `FreqDist` que nos facilita el conteo de frecuencias de las palabras en nuestro conjunto de datos. La primera parte del procesamiento es idéntico a la vez pasada."
   ]
  },
  {
   "cell_type": "code",
   "execution_count": null,
   "metadata": {},
   "outputs": [],
   "source": []
  },
  {
   "cell_type": "code",
   "execution_count": 3,
   "metadata": {},
   "outputs": [],
   "source": [
    "import pandas as pd\n",
    "import nltk\n",
    "import seaborn as sns\n",
    "import matplotlib.pyplot as plt\n",
    "import numpy as np"
   ]
  },
  {
   "cell_type": "code",
   "execution_count": 4,
   "metadata": {},
   "outputs": [
    {
     "data": {
      "text/html": [
       "<div>\n",
       "<style scoped>\n",
       "    .dataframe tbody tr th:only-of-type {\n",
       "        vertical-align: middle;\n",
       "    }\n",
       "\n",
       "    .dataframe tbody tr th {\n",
       "        vertical-align: top;\n",
       "    }\n",
       "\n",
       "    .dataframe thead th {\n",
       "        text-align: right;\n",
       "    }\n",
       "</style>\n",
       "<table border=\"1\" class=\"dataframe\">\n",
       "  <thead>\n",
       "    <tr style=\"text-align: right;\">\n",
       "      <th></th>\n",
       "      <th>amazon_product_url</th>\n",
       "      <th>author</th>\n",
       "      <th>description</th>\n",
       "      <th>publisher</th>\n",
       "      <th>title</th>\n",
       "      <th>oid</th>\n",
       "      <th>bestsellers_date.numberLong</th>\n",
       "      <th>published_date.numberLong</th>\n",
       "      <th>rank.numberInt</th>\n",
       "      <th>rank_last_week.numberInt</th>\n",
       "      <th>weeks_on_list.numberInt</th>\n",
       "      <th>price.numberDouble</th>\n",
       "    </tr>\n",
       "  </thead>\n",
       "  <tbody>\n",
       "    <tr>\n",
       "      <th>0</th>\n",
       "      <td>http://www.amazon.com/The-Host-Novel-Stephenie...</td>\n",
       "      <td>Stephenie Meyer</td>\n",
       "      <td>Aliens have taken control of the minds and bod...</td>\n",
       "      <td>Little, Brown</td>\n",
       "      <td>THE HOST</td>\n",
       "      <td>5b4aa4ead3089013507db18c</td>\n",
       "      <td>1211587200000</td>\n",
       "      <td>1212883200000</td>\n",
       "      <td>2</td>\n",
       "      <td>1</td>\n",
       "      <td>3</td>\n",
       "      <td>25.99</td>\n",
       "    </tr>\n",
       "    <tr>\n",
       "      <th>1</th>\n",
       "      <td>http://www.amazon.com/Love-Youre-With-Emily-Gi...</td>\n",
       "      <td>Emily Giffin</td>\n",
       "      <td>A woman's happy marriage is shaken when she en...</td>\n",
       "      <td>St. Martin's</td>\n",
       "      <td>LOVE THE ONE YOU'RE WITH</td>\n",
       "      <td>5b4aa4ead3089013507db18d</td>\n",
       "      <td>1211587200000</td>\n",
       "      <td>1212883200000</td>\n",
       "      <td>3</td>\n",
       "      <td>2</td>\n",
       "      <td>2</td>\n",
       "      <td>24.95</td>\n",
       "    </tr>\n",
       "    <tr>\n",
       "      <th>2</th>\n",
       "      <td>http://www.amazon.com/The-Front-Garano-Patrici...</td>\n",
       "      <td>Patricia Cornwell</td>\n",
       "      <td>A Massachusetts state investigator and his tea...</td>\n",
       "      <td>Putnam</td>\n",
       "      <td>THE FRONT</td>\n",
       "      <td>5b4aa4ead3089013507db18e</td>\n",
       "      <td>1211587200000</td>\n",
       "      <td>1212883200000</td>\n",
       "      <td>4</td>\n",
       "      <td>0</td>\n",
       "      <td>1</td>\n",
       "      <td>22.95</td>\n",
       "    </tr>\n",
       "    <tr>\n",
       "      <th>3</th>\n",
       "      <td>http://www.amazon.com/Snuff-Chuck-Palahniuk/dp...</td>\n",
       "      <td>Chuck Palahniuk</td>\n",
       "      <td>An aging porn queens aims to cap her career by...</td>\n",
       "      <td>Doubleday</td>\n",
       "      <td>SNUFF</td>\n",
       "      <td>5b4aa4ead3089013507db18f</td>\n",
       "      <td>1211587200000</td>\n",
       "      <td>1212883200000</td>\n",
       "      <td>5</td>\n",
       "      <td>0</td>\n",
       "      <td>1</td>\n",
       "      <td>24.95</td>\n",
       "    </tr>\n",
       "    <tr>\n",
       "      <th>4</th>\n",
       "      <td>http://www.amazon.com/Sundays-at-Tiffanys-Jame...</td>\n",
       "      <td>James Patterson and Gabrielle Charbonnet</td>\n",
       "      <td>A woman finds an unexpected love</td>\n",
       "      <td>Little, Brown</td>\n",
       "      <td>SUNDAYS AT TIFFANY’S</td>\n",
       "      <td>5b4aa4ead3089013507db190</td>\n",
       "      <td>1211587200000</td>\n",
       "      <td>1212883200000</td>\n",
       "      <td>6</td>\n",
       "      <td>3</td>\n",
       "      <td>4</td>\n",
       "      <td>24.99</td>\n",
       "    </tr>\n",
       "  </tbody>\n",
       "</table>\n",
       "</div>"
      ],
      "text/plain": [
       "                                  amazon_product_url  \\\n",
       "0  http://www.amazon.com/The-Host-Novel-Stephenie...   \n",
       "1  http://www.amazon.com/Love-Youre-With-Emily-Gi...   \n",
       "2  http://www.amazon.com/The-Front-Garano-Patrici...   \n",
       "3  http://www.amazon.com/Snuff-Chuck-Palahniuk/dp...   \n",
       "4  http://www.amazon.com/Sundays-at-Tiffanys-Jame...   \n",
       "\n",
       "                                     author  \\\n",
       "0                           Stephenie Meyer   \n",
       "1                              Emily Giffin   \n",
       "2                         Patricia Cornwell   \n",
       "3                           Chuck Palahniuk   \n",
       "4  James Patterson and Gabrielle Charbonnet   \n",
       "\n",
       "                                         description      publisher  \\\n",
       "0  Aliens have taken control of the minds and bod...  Little, Brown   \n",
       "1  A woman's happy marriage is shaken when she en...   St. Martin's   \n",
       "2  A Massachusetts state investigator and his tea...         Putnam   \n",
       "3  An aging porn queens aims to cap her career by...      Doubleday   \n",
       "4                   A woman finds an unexpected love  Little, Brown   \n",
       "\n",
       "                      title                       oid  \\\n",
       "0                  THE HOST  5b4aa4ead3089013507db18c   \n",
       "1  LOVE THE ONE YOU'RE WITH  5b4aa4ead3089013507db18d   \n",
       "2                 THE FRONT  5b4aa4ead3089013507db18e   \n",
       "3                     SNUFF  5b4aa4ead3089013507db18f   \n",
       "4      SUNDAYS AT TIFFANY’S  5b4aa4ead3089013507db190   \n",
       "\n",
       "   bestsellers_date.numberLong  published_date.numberLong  rank.numberInt  \\\n",
       "0                1211587200000              1212883200000               2   \n",
       "1                1211587200000              1212883200000               3   \n",
       "2                1211587200000              1212883200000               4   \n",
       "3                1211587200000              1212883200000               5   \n",
       "4                1211587200000              1212883200000               6   \n",
       "\n",
       "   rank_last_week.numberInt  weeks_on_list.numberInt  price.numberDouble  \n",
       "0                         1                        3               25.99  \n",
       "1                         2                        2               24.95  \n",
       "2                         0                        1               22.95  \n",
       "3                         0                        1               24.95  \n",
       "4                         3                        4               24.99  "
      ]
     },
     "execution_count": 4,
     "metadata": {},
     "output_type": "execute_result"
    }
   ],
   "source": [
    "df = pd.read_json('../../Datasets/new_york_times_bestsellers-clean.json')\n",
    "\n",
    "df.head()"
   ]
  },
  {
   "cell_type": "code",
   "execution_count": 5,
   "metadata": {},
   "outputs": [
    {
     "data": {
      "text/plain": [
       "title\n",
       "10TH ANNIVERSARY            Detective Lindsay Boxer and the Women’s Murder...\n",
       "11TH HOUR                   Detective Lindsay Boxer and the Women’s Murder...\n",
       "1225 CHRISTMAS TREE LANE    Puppies and an ex-husband loom large in the la...\n",
       "1356                        In the fourth book of the Grail Quest series, ...\n",
       "1Q84                        In 1980s Tokyo, a woman who punishes perpetrat...\n",
       "                                                  ...                        \n",
       "Z                           A novel based on the lives of Zelda and F. Sco...\n",
       "ZERO DAY                       A military investigator uncovers a conspiracy.\n",
       "ZERO HISTORY                Several characters from “Spook Country” return...\n",
       "ZONE ONE                      Fighting zombies in post-apocalyptic Manhattan.\n",
       "ZOO                         A young biologist warns world leaders about th...\n",
       "Name: description, Length: 754, dtype: object"
      ]
     },
     "execution_count": 5,
     "metadata": {},
     "output_type": "execute_result"
    }
   ],
   "source": [
    "grouped_by_title = df.groupby('title')['description'].max()\n",
    "\n",
    "grouped_by_title"
   ]
  },
  {
   "cell_type": "markdown",
   "metadata": {},
   "source": [
    "Primero hay que limpiar un poco nuestros textos:"
   ]
  },
  {
   "cell_type": "code",
   "execution_count": 6,
   "metadata": {},
   "outputs": [
    {
     "name": "stderr",
     "output_type": "stream",
     "text": [
      "<ipython-input-6-7b19dfa1992e>:3: FutureWarning: The default value of regex will change from True to False in a future version.\n",
      "  grouped_by_title = grouped_by_title.str.replace('[^\\w\\s]', '')\n",
      "<ipython-input-6-7b19dfa1992e>:4: FutureWarning: The default value of regex will change from True to False in a future version.\n",
      "  grouped_by_title = grouped_by_title.str.replace('\\d', '')\n",
      "<ipython-input-6-7b19dfa1992e>:5: FutureWarning: The default value of regex will change from True to False in a future version.\n",
      "  grouped_by_title = grouped_by_title.str.replace('\\\\n', '')\n"
     ]
    },
    {
     "data": {
      "text/plain": [
       "title\n",
       "10TH ANNIVERSARY            detective lindsay boxer and the womens murder ...\n",
       "11TH HOUR                   detective lindsay boxer and the womens murder ...\n",
       "1225 CHRISTMAS TREE LANE    puppies and an exhusband loom large in the las...\n",
       "1356                        in the fourth book of the grail quest series t...\n",
       "1Q84                        in s tokyo a woman who punishes perpetrators o...\n",
       "                                                  ...                        \n",
       "Z                           a novel based on the lives of zelda and f scot...\n",
       "ZERO DAY                        a military investigator uncovers a conspiracy\n",
       "ZERO HISTORY                several characters from spook country return t...\n",
       "ZONE ONE                        fighting zombies in postapocalyptic manhattan\n",
       "ZOO                         a young biologist warns world leaders about th...\n",
       "Name: description, Length: 754, dtype: object"
      ]
     },
     "execution_count": 6,
     "metadata": {},
     "output_type": "execute_result"
    }
   ],
   "source": [
    "grouped_by_title = grouped_by_title.str.lower()\n",
    "grouped_by_title = grouped_by_title.str.strip()\n",
    "grouped_by_title = grouped_by_title.str.replace('[^\\w\\s]', '')\n",
    "grouped_by_title = grouped_by_title.str.replace('\\d', '')\n",
    "grouped_by_title = grouped_by_title.str.replace('\\\\n', '')\n",
    "grouped_by_title = grouped_by_title.dropna()\n",
    "\n",
    "grouped_by_title"
   ]
  },
  {
   "cell_type": "code",
   "execution_count": 7,
   "metadata": {},
   "outputs": [],
   "source": [
    "# Separamos cada oración en palabras\n",
    "\n",
    "tokenized = grouped_by_title.apply(nltk.word_tokenize)"
   ]
  },
  {
   "cell_type": "code",
   "execution_count": 8,
   "metadata": {},
   "outputs": [
    {
     "data": {
      "text/plain": [
       "title\n",
       "10TH ANNIVERSARY            [detective, lindsay, boxer, and, the, womens, ...\n",
       "11TH HOUR                   [detective, lindsay, boxer, and, the, womens, ...\n",
       "1225 CHRISTMAS TREE LANE    [puppies, and, an, exhusband, loom, large, in,...\n",
       "1356                        [in, the, fourth, book, of, the, grail, quest,...\n",
       "1Q84                        [in, s, tokyo, a, woman, who, punishes, perpet...\n",
       "                                                  ...                        \n",
       "Z                           [a, novel, based, on, the, lives, of, zelda, a...\n",
       "ZERO DAY                    [a, military, investigator, uncovers, a, consp...\n",
       "ZERO HISTORY                [several, characters, from, spook, country, re...\n",
       "ZONE ONE                    [fighting, zombies, in, postapocalyptic, manha...\n",
       "ZOO                         [a, young, biologist, warns, world, leaders, a...\n",
       "Name: description, Length: 754, dtype: object"
      ]
     },
     "execution_count": 8,
     "metadata": {},
     "output_type": "execute_result"
    }
   ],
   "source": [
    "tokenized"
   ]
  },
  {
   "cell_type": "code",
   "execution_count": 9,
   "metadata": {},
   "outputs": [],
   "source": [
    "all_words = tokenized.sum()"
   ]
  },
  {
   "cell_type": "code",
   "execution_count": 11,
   "metadata": {},
   "outputs": [
    {
     "name": "stdout",
     "output_type": "stream",
     "text": [
      "<FreqDist with 3161 samples and 12569 outcomes>\n"
     ]
    }
   ],
   "source": [
    "# Utilizamos FreqDist para analizar la distribución de frecuencia de nuestras palabras\n",
    "\n",
    "freq_dist = nltk.FreqDist(all_words)\n",
    "\n",
    "print(freq_dist)"
   ]
  },
  {
   "cell_type": "code",
   "execution_count": 12,
   "metadata": {},
   "outputs": [
    {
     "data": {
      "text/plain": [
       "[('a', 917),\n",
       " ('the', 778),\n",
       " ('of', 417),\n",
       " ('in', 364),\n",
       " ('to', 283),\n",
       " ('and', 280),\n",
       " ('an', 149),\n",
       " ('her', 137),\n",
       " ('is', 127),\n",
       " ('his', 123),\n",
       " ('who', 107),\n",
       " ('for', 102),\n",
       " ('with', 93),\n",
       " ('on', 71),\n",
       " ('from', 70),\n",
       " ('by', 68),\n",
       " ('series', 61),\n",
       " ('new', 61),\n",
       " ('woman', 60),\n",
       " ('that', 60),\n",
       " ('book', 57),\n",
       " ('detective', 52),\n",
       " ('murder', 51),\n",
       " ('novel', 49),\n",
       " ('when', 46),\n",
       " ('as', 42),\n",
       " ('killer', 41),\n",
       " ('at', 40),\n",
       " ('must', 39),\n",
       " ('has', 38),\n",
       " ('investigates', 38),\n",
       " ('young', 35),\n",
       " ('man', 35),\n",
       " ('life', 32),\n",
       " ('former', 32),\n",
       " ('she', 31),\n",
       " ('about', 30),\n",
       " ('their', 29),\n",
       " ('are', 28),\n",
       " ('war', 27),\n",
       " ('after', 27),\n",
       " ('family', 26),\n",
       " ('york', 26),\n",
       " ('two', 25),\n",
       " ('death', 25),\n",
       " ('world', 24),\n",
       " ('this', 24),\n",
       " ('agent', 24),\n",
       " ('into', 23),\n",
       " ('he', 23)]"
      ]
     },
     "execution_count": 12,
     "metadata": {},
     "output_type": "execute_result"
    }
   ],
   "source": [
    "freq_dist.most_common(50)"
   ]
  },
  {
   "cell_type": "markdown",
   "metadata": {},
   "source": [
    "Vamos a eliminar las 'palabras vacías' o 'stop words'\n",
    "\n",
    "Para hacer esto tienes que correr primero el siguiente comando:\n",
    "\n",
    "`nltk.download('stopwords')`"
   ]
  },
  {
   "cell_type": "code",
   "execution_count": 13,
   "metadata": {},
   "outputs": [],
   "source": [
    "from nltk.corpus import stopwords"
   ]
  },
  {
   "cell_type": "code",
   "execution_count": 14,
   "metadata": {},
   "outputs": [],
   "source": [
    "english_stop_words = stopwords.words('english')\n",
    "\n",
    "all_words_except_stop_words = [word for word in all_words if word not in english_stop_words]\n",
    "\n",
    "freq_dist_no_stop_words = nltk.FreqDist(all_words_except_stop_words)"
   ]
  },
  {
   "cell_type": "code",
   "execution_count": 15,
   "metadata": {},
   "outputs": [
    {
     "data": {
      "text/plain": [
       "[('series', 61),\n",
       " ('new', 61),\n",
       " ('woman', 60),\n",
       " ('book', 57),\n",
       " ('detective', 52),\n",
       " ('murder', 51),\n",
       " ('novel', 49),\n",
       " ('killer', 41),\n",
       " ('must', 39),\n",
       " ('investigates', 38),\n",
       " ('young', 35),\n",
       " ('man', 35),\n",
       " ('life', 32),\n",
       " ('former', 32),\n",
       " ('war', 27),\n",
       " ('family', 26),\n",
       " ('york', 26),\n",
       " ('two', 25),\n",
       " ('death', 25),\n",
       " ('world', 24),\n",
       " ('agent', 24),\n",
       " ('cia', 22),\n",
       " ('love', 22),\n",
       " ('secret', 21),\n",
       " ('discovers', 21),\n",
       " ('lawyer', 20),\n",
       " ('murdered', 20),\n",
       " ('finds', 20),\n",
       " ('eve', 19),\n",
       " ('th', 19),\n",
       " ('mother', 19),\n",
       " ('case', 19),\n",
       " ('women', 19),\n",
       " ('wife', 19),\n",
       " ('serial', 18),\n",
       " ('first', 18),\n",
       " ('secrets', 18),\n",
       " ('pursues', 18),\n",
       " ('investigator', 18),\n",
       " ('operative', 18),\n",
       " ('missing', 17),\n",
       " ('search', 17),\n",
       " ('searches', 17),\n",
       " ('help', 17),\n",
       " ('fbi', 17),\n",
       " ('stone', 17),\n",
       " ('years', 17),\n",
       " ('girl', 17),\n",
       " ('investigate', 16),\n",
       " ('one', 16)]"
      ]
     },
     "execution_count": 15,
     "metadata": {},
     "output_type": "execute_result"
    }
   ],
   "source": [
    "freq_dist_no_stop_words.most_common(50)"
   ]
  },
  {
   "cell_type": "code",
   "execution_count": 16,
   "metadata": {},
   "outputs": [
    {
     "name": "stdout",
     "output_type": "stream",
     "text": [
      "0.786%\n"
     ]
    }
   ],
   "source": [
    "# Conteo de una palabra y porcentaje de aparición\n",
    "\n",
    "print(f'{(100 * freq_dist_no_stop_words[\"woman\"] / len(all_words_except_stop_words)):.3f}%')"
   ]
  },
  {
   "cell_type": "code",
   "execution_count": 17,
   "metadata": {},
   "outputs": [
    {
     "data": {
      "image/png": "[encoded data removed]",
      "text/plain": [
       "<Figure size 432x288 with 1 Axes>"
      ]
     },
     "metadata": {
      "needs_background": "light"
     },
     "output_type": "display_data"
    }
   ],
   "source": [
    "# Veamos qué proporción del text está siendo ocupada por las 50 palabras más comunes\n",
    "\n",
    "freq_dist_no_stop_words.plot(50, cumulative=True);"
   ]
  },
  {
   "cell_type": "code",
   "execution_count": 18,
   "metadata": {},
   "outputs": [
    {
     "data": {
      "text/plain": [
       "['puppies',\n",
       " 'loom',\n",
       " 'last',\n",
       " 'grail',\n",
       " 'poitiers',\n",
       " 'tokyo',\n",
       " 'punishes',\n",
       " 'domestic',\n",
       " 'aspiring',\n",
       " 'resent',\n",
       " 'draining',\n",
       " 'weakening',\n",
       " 'economy',\n",
       " 'earthquake',\n",
       " 'tests',\n",
       " 'countrys',\n",
       " 'jewish',\n",
       " 'mishandling',\n",
       " 'pregnant',\n",
       " 'shows']"
      ]
     },
     "execution_count": 18,
     "metadata": {},
     "output_type": "execute_result"
    }
   ],
   "source": [
    "# Palabras que sólo aparecen una sola vez\n",
    "\n",
    "freq_dist_no_stop_words.hapaxes()[:20]"
   ]
  },
  {
   "cell_type": "code",
   "execution_count": 19,
   "metadata": {},
   "outputs": [
    {
     "data": {
      "text/plain": [
       "0            wars\n",
       "1          mcgill\n",
       "2         teacher\n",
       "3       policeman\n",
       "4          marine\n",
       "          ...    \n",
       "3060     contacts\n",
       "3061         like\n",
       "3062         come\n",
       "3063       fourth\n",
       "3064        sachs\n",
       "Length: 3065, dtype: object"
      ]
     },
     "execution_count": 19,
     "metadata": {},
     "output_type": "execute_result"
    }
   ],
   "source": [
    "# Palabras largas\n",
    "\n",
    "unique = set(all_words_except_stop_words)\n",
    "unique_series = pd.Series(list(unique))\n",
    "\n",
    "unique_series"
   ]
  },
  {
   "cell_type": "code",
   "execution_count": 20,
   "metadata": {},
   "outputs": [
    {
     "data": {
      "text/plain": [
       "222       singersongwriter\n",
       "666      suicidebyaccident\n",
       "964     turnofthethcentury\n",
       "1229      dissatisfactions\n",
       "1506      postthanksgiving\n",
       "1684      autobiographical\n",
       "1995     multigenerational\n",
       "2098      mountainclimbing\n",
       "2396      publicityseeking\n",
       "2686      counterterrorism\n",
       "dtype: object"
      ]
     },
     "execution_count": 20,
     "metadata": {},
     "output_type": "execute_result"
    }
   ],
   "source": [
    "unique_series[unique_series.str.len() > 15]"
   ]
  },
  {
   "cell_type": "code",
   "execution_count": 19,
   "metadata": {},
   "outputs": [
    {
     "data": {
      "text/plain": [
       "26           character\n",
       "128          discovers\n",
       "424          daughters\n",
       "563          detective\n",
       "784           reporter\n",
       "856         washington\n",
       "947         barrington\n",
       "1002          carolina\n",
       "1087          intrigue\n",
       "1247        paranormal\n",
       "1289    pseudonymously\n",
       "1538          american\n",
       "1602          forensic\n",
       "1711        characters\n",
       "1746          involved\n",
       "1821     investigation\n",
       "1938          together\n",
       "2002         terrorist\n",
       "2025        mysterious\n",
       "2073          murdered\n",
       "2119          daughter\n",
       "2161          assassin\n",
       "2244      investigates\n",
       "2262     disappearance\n",
       "2276       investigate\n",
       "2302          searches\n",
       "2414         operative\n",
       "2490         dangerous\n",
       "2663         manhattan\n",
       "2876      investigator\n",
       "dtype: object"
      ]
     },
     "execution_count": 19,
     "metadata": {},
     "output_type": "execute_result"
    }
   ],
   "source": [
    "# Palabras largas que son frecuentes\n",
    "\n",
    "larger_than_10 = unique_series.str.len() > 7\n",
    "is_frequent = unique_series.apply(lambda x: freq_dist_no_stop_words[x] > 7)\n",
    "\n",
    "unique_series[larger_than_10 & is_frequent]"
   ]
  },
  {
   "cell_type": "code",
   "execution_count": 20,
   "metadata": {},
   "outputs": [],
   "source": [
    "# Podemos contar otras cosas, como la frecuencia de longitudes de nuestras palabras\n",
    "\n",
    "freq_dist_lengths = nltk.FreqDist([len(w) for w in all_words_except_stop_words])"
   ]
  },
  {
   "cell_type": "code",
   "execution_count": 21,
   "metadata": {},
   "outputs": [
    {
     "data": {
      "text/plain": [
       "[(5, 1382),\n",
       " (6, 1364),\n",
       " (7, 1212),\n",
       " (4, 1051),\n",
       " (8, 707),\n",
       " (9, 586),\n",
       " (3, 471),\n",
       " (10, 354),\n",
       " (11, 164),\n",
       " (12, 157),\n",
       " (2, 60),\n",
       " (13, 60),\n",
       " (14, 30),\n",
       " (16, 11),\n",
       " (15, 11),\n",
       " (1, 8),\n",
       " (17, 2),\n",
       " (18, 1)]"
      ]
     },
     "execution_count": 21,
     "metadata": {},
     "output_type": "execute_result"
    }
   ],
   "source": [
    "freq_dist_lengths.most_common()"
   ]
  },
  {
   "cell_type": "code",
   "execution_count": 22,
   "metadata": {},
   "outputs": [
    {
     "data": {
      "text/plain": [
       "5"
      ]
     },
     "execution_count": 22,
     "metadata": {},
     "output_type": "execute_result"
    }
   ],
   "source": [
    "freq_dist_lengths.max()"
   ]
  },
  {
   "cell_type": "code",
   "execution_count": 23,
   "metadata": {},
   "outputs": [
    {
     "data": {
      "text/plain": [
       "1382"
      ]
     },
     "execution_count": 23,
     "metadata": {},
     "output_type": "execute_result"
    }
   ],
   "source": [
    "freq_dist_lengths[5]"
   ]
  },
  {
   "cell_type": "code",
   "execution_count": 24,
   "metadata": {},
   "outputs": [
    {
     "data": {
      "text/plain": [
       "0.18110339405058315"
      ]
     },
     "execution_count": 24,
     "metadata": {},
     "output_type": "execute_result"
    }
   ],
   "source": [
    "# También podemos saber qué proporción del total de palabras tiene longitud de 5\n",
    "\n",
    "freq_dist_lengths.freq(5)"
   ]
  },
  {
   "cell_type": "code",
   "execution_count": null,
   "metadata": {},
   "outputs": [],
   "source": []
  }
 ],
 "metadata": {
  "kernelspec": {
   "display_name": "Python 3",
   "language": "python",
   "name": "python3"
  },
  "language_info": {
   "codemirror_mode": {
    "name": "ipython",
    "version": 3
   },
   "file_extension": ".py",
   "mimetype": "text/x-python",
   "name": "python",
   "nbconvert_exporter": "python",
   "pygments_lexer": "ipython3",
   "version": "3.9.1"
  }
 },
 "nbformat": 4,
 "nbformat_minor": 4
}
