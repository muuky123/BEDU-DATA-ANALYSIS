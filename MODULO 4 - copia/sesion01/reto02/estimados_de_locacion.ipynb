{
 "cells": [
  {
   "cell_type": "markdown",
   "metadata": {},
   "source": [
    "# Reto 2: Estimados de locación\n",
    "\n",
    "## 1. Objetivos:\n",
    "- Implementar los algoritmos para obtener estimados de locación sin utilizar los métodos builtin de pandas\n",
    " \n",
    "---\n",
    "    \n",
    "## 2. Desarrollo:"
   ]
  },
  {
   "cell_type": "markdown",
   "metadata": {
    "tags": []
   },
   "source": [
    "### a) Implementando estimados de locación\n",
    "\n",
    "Este Reto va a consistir en implementar el promedio y la mediana sin utilizar los métodos `mean` y `median` que vienen incluidos en `pandas`. Implementar algoritmos desde 0 es una excelente práctica que nos ayuda a entenderlos mejor y recordarlos con más precisión.\n",
    "\n",
    "Puedes utilizar `pandas` y otras funciones vectorizadas o de reducción. Las únicas funciones que no están permitidas son `mean` y `median`. Las dos funciones que vas a crear deben recibir una serie de `pandas` y regresar un solo número."
   ]
  },
  {
   "cell_type": "code",
   "execution_count": 1,
   "metadata": {},
   "outputs": [],
   "source": [
    "def promedio_custom(serie):\n",
    "    return serie.sum() / serie.count()\n",
    "    \n"
   ]
  },
  {
   "cell_type": "code",
   "execution_count": 2,
   "metadata": {},
   "outputs": [],
   "source": [
    "def mediana_custom(serie):\n",
    "    import numpy as np\n",
    "    \n",
    "    serie_ordenada = serie_values()  # Ordenar serie\n",
    "    length_of_series = serie.count() # numero de elementos\n",
    "    if length_of_series % 2 == 0:\n",
    "        bottom = int(length_of_serie / 2)  # 2\n",
    "        top = int(bottom + 1) # 3\n",
    "        return (serie_ordenada.iloc[bottom] + serie_ordenada.iloc[top]) / 2\n",
    "    else:\n",
    "        index = int (np.ceil(length_of_series / 2)) # techo\n",
    "        return serie_ordenada.iloc[index]\n",
    "    \n",
    "[1,2,3,4,5]\n",
    "\n",
    "#      5\n",
    "#     ----\n",
    "#   2| 10\n",
    "#      0\n",
    "\n",
    "\n",
    "#      5\n",
    "#     ----\n",
    "#   2| 10\n",
    "#      0"
   ]
  },
  {
   "cell_type": "markdown",
   "metadata": {},
   "source": [
    "### b) Estimados de locación de diámetros de meteoritos\n",
    "\n",
    "Ahora vamos a utilizar nuestras funciones custom para obtener estimados de locación de un conjunto de datos que contiene información acerca de objetos que orbitaron cerca de la Tierra durante el periodo de enero y febrero de 1995.\n",
    "\n",
    "El dataset se llama 'near_earth_objects-jan_feb_1995-clean.csv' y la columna que vamos a analizar se llama 'estimated_diameter.meters.estimated_diameter_max'. Esta columna contiene el diámetro máximo estimado de cada objeto.\n",
    "\n",
    "El reto es el siguiente:\n",
    "\n",
    "1. Lee el dataset usando `pandas`.\n",
    "2. Obtén el promedio y la mediana usando tus funciones custom y asígnalas a `promedio_diametro` y `mediana_diametro`."
   ]
  },
  {
   "cell_type": "code",
   "execution_count": 16,
   "metadata": {},
   "outputs": [],
   "source": [
    "import pandas as pd"
   ]
  },
  {
   "cell_type": "code",
   "execution_count": 17,
   "metadata": {},
   "outputs": [
    {
     "data": {
      "text/html": [
       "<div>\n",
       "<style scoped>\n",
       "    .dataframe tbody tr th:only-of-type {\n",
       "        vertical-align: middle;\n",
       "    }\n",
       "\n",
       "    .dataframe tbody tr th {\n",
       "        vertical-align: top;\n",
       "    }\n",
       "\n",
       "    .dataframe thead th {\n",
       "        text-align: right;\n",
       "    }\n",
       "</style>\n",
       "<table border=\"1\" class=\"dataframe\">\n",
       "  <thead>\n",
       "    <tr style=\"text-align: right;\">\n",
       "      <th></th>\n",
       "      <th>Unnamed: 0</th>\n",
       "      <th>id</th>\n",
       "      <th>name</th>\n",
       "      <th>is_potentially_hazardous_asteroid</th>\n",
       "      <th>estimated_diameter.meters.estimated_diameter_min</th>\n",
       "      <th>estimated_diameter.meters.estimated_diameter_max</th>\n",
       "      <th>close_approach_date</th>\n",
       "      <th>epoch_date_close_approach</th>\n",
       "      <th>orbiting_body</th>\n",
       "      <th>relative_velocity.kilometers_per_second</th>\n",
       "      <th>relative_velocity.kilometers_per_hour</th>\n",
       "    </tr>\n",
       "  </thead>\n",
       "  <tbody>\n",
       "    <tr>\n",
       "      <th>0</th>\n",
       "      <td>0</td>\n",
       "      <td>2154652</td>\n",
       "      <td>154652 (2004 EP20)</td>\n",
       "      <td>False</td>\n",
       "      <td>483.676488</td>\n",
       "      <td>1081.533507</td>\n",
       "      <td>1995-01-07</td>\n",
       "      <td>789467580000</td>\n",
       "      <td>Earth</td>\n",
       "      <td>16.142864</td>\n",
       "      <td>58114.308667</td>\n",
       "    </tr>\n",
       "    <tr>\n",
       "      <th>1</th>\n",
       "      <td>1</td>\n",
       "      <td>3153509</td>\n",
       "      <td>(2003 HM)</td>\n",
       "      <td>True</td>\n",
       "      <td>96.506147</td>\n",
       "      <td>215.794305</td>\n",
       "      <td>1995-01-07</td>\n",
       "      <td>789491340000</td>\n",
       "      <td>Earth</td>\n",
       "      <td>12.351044</td>\n",
       "      <td>44463.757734</td>\n",
       "    </tr>\n",
       "    <tr>\n",
       "      <th>2</th>\n",
       "      <td>2</td>\n",
       "      <td>3516633</td>\n",
       "      <td>(2010 HA)</td>\n",
       "      <td>False</td>\n",
       "      <td>44.111820</td>\n",
       "      <td>98.637028</td>\n",
       "      <td>1995-01-07</td>\n",
       "      <td>789446820000</td>\n",
       "      <td>Earth</td>\n",
       "      <td>6.220435</td>\n",
       "      <td>22393.567277</td>\n",
       "    </tr>\n",
       "    <tr>\n",
       "      <th>3</th>\n",
       "      <td>3</td>\n",
       "      <td>3837644</td>\n",
       "      <td>(2019 AY3)</td>\n",
       "      <td>False</td>\n",
       "      <td>46.190746</td>\n",
       "      <td>103.285648</td>\n",
       "      <td>1995-01-07</td>\n",
       "      <td>789513900000</td>\n",
       "      <td>Earth</td>\n",
       "      <td>22.478615</td>\n",
       "      <td>80923.015021</td>\n",
       "    </tr>\n",
       "    <tr>\n",
       "      <th>4</th>\n",
       "      <td>4</td>\n",
       "      <td>3843493</td>\n",
       "      <td>(2019 PY)</td>\n",
       "      <td>False</td>\n",
       "      <td>22.108281</td>\n",
       "      <td>49.435619</td>\n",
       "      <td>1995-01-07</td>\n",
       "      <td>789446700000</td>\n",
       "      <td>Earth</td>\n",
       "      <td>4.998691</td>\n",
       "      <td>17995.288355</td>\n",
       "    </tr>\n",
       "  </tbody>\n",
       "</table>\n",
       "</div>"
      ],
      "text/plain": [
       "   Unnamed: 0       id                name  is_potentially_hazardous_asteroid  \\\n",
       "0           0  2154652  154652 (2004 EP20)                              False   \n",
       "1           1  3153509           (2003 HM)                               True   \n",
       "2           2  3516633           (2010 HA)                              False   \n",
       "3           3  3837644          (2019 AY3)                              False   \n",
       "4           4  3843493           (2019 PY)                              False   \n",
       "\n",
       "   estimated_diameter.meters.estimated_diameter_min  \\\n",
       "0                                        483.676488   \n",
       "1                                         96.506147   \n",
       "2                                         44.111820   \n",
       "3                                         46.190746   \n",
       "4                                         22.108281   \n",
       "\n",
       "   estimated_diameter.meters.estimated_diameter_max close_approach_date  \\\n",
       "0                                       1081.533507          1995-01-07   \n",
       "1                                        215.794305          1995-01-07   \n",
       "2                                         98.637028          1995-01-07   \n",
       "3                                        103.285648          1995-01-07   \n",
       "4                                         49.435619          1995-01-07   \n",
       "\n",
       "   epoch_date_close_approach orbiting_body  \\\n",
       "0               789467580000         Earth   \n",
       "1               789491340000         Earth   \n",
       "2               789446820000         Earth   \n",
       "3               789513900000         Earth   \n",
       "4               789446700000         Earth   \n",
       "\n",
       "   relative_velocity.kilometers_per_second  \\\n",
       "0                                16.142864   \n",
       "1                                12.351044   \n",
       "2                                 6.220435   \n",
       "3                                22.478615   \n",
       "4                                 4.998691   \n",
       "\n",
       "   relative_velocity.kilometers_per_hour  \n",
       "0                           58114.308667  \n",
       "1                           44463.757734  \n",
       "2                           22393.567277  \n",
       "3                           80923.015021  \n",
       "4                           17995.288355  "
      ]
     },
     "execution_count": 17,
     "metadata": {},
     "output_type": "execute_result"
    }
   ],
   "source": [
    "# Lee el dataset y asígnalo a esta variable\n",
    "\n",
    "df_meteoritos = pd.read_csv('near_earth_objects-jan_feb_1995-clean.csv')\n",
    "df.head()"
   ]
  },
  {
   "cell_type": "code",
   "execution_count": 22,
   "metadata": {},
   "outputs": [
    {
     "data": {
      "text/plain": [
       "410.08604223976545"
      ]
     },
     "execution_count": 22,
     "metadata": {},
     "output_type": "execute_result"
    }
   ],
   "source": [
    "promedio_diametro = df_meteoritos[\"estimated_diameter.meters.estimated_diameter_max\"].mean()\n",
    "promedio_diametro"
   ]
  },
  {
   "cell_type": "code",
   "execution_count": 23,
   "metadata": {},
   "outputs": [
    {
     "data": {
      "text/plain": [
       "215.7943048444"
      ]
     },
     "execution_count": 23,
     "metadata": {},
     "output_type": "execute_result"
    }
   ],
   "source": [
    "mediana_diametro = df_meteoritos[\"estimated_diameter.meters.estimated_diameter_max\"].median()\n",
    "mediana_diametro"
   ]
  }
 ],
 "metadata": {
  "kernelspec": {
   "display_name": "Python 3",
   "language": "python",
   "name": "python3"
  },
  "language_info": {
   "codemirror_mode": {
    "name": "ipython",
    "version": 3
   },
   "file_extension": ".py",
   "mimetype": "text/x-python",
   "name": "python",
   "nbconvert_exporter": "python",
   "pygments_lexer": "ipython3",
   "version": "3.9.1"
  }
 },
 "nbformat": 4,
 "nbformat_minor": 4
}
