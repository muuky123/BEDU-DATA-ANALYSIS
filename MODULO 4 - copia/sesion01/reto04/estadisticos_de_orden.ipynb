{
 "cells": [
  {
   "cell_type": "markdown",
   "metadata": {},
   "source": [
    "# Reto 4: Estadísticos de orden\n",
    "\n",
    "    \n",
    "## 1. Desarrollo:"
   ]
  },
  {
   "cell_type": "markdown",
   "metadata": {},
   "source": [
    "#### a) Percentiles para evaluar la dispersión de nuestros datos\n",
    "\n",
    "Tienes debajo 4 series. Cada una de esas series contiene un conjunto de datos conformado por números enteros en el intervalo de 1 a 10. Los datos en cada una de estas series tienen un tipo de dispersión distinta. Los valores típicos cambian así como los valores atípicos. Las medianas también son diferentes.\n",
    "\n",
    "Usando percentiles, obtén información acerca de cuál es el valor donde están concentrados nuestros datos y cómo está configurada su dispersión. Entre más percentiles utilices, obtienes una descripción más detallada, pero como el dataset es muy pequeño, no necesitas tanta granularidad.\n",
    "\n",
    "Obtén los percentiles y comenta con la experta y tus compañeros qué cosas podemos inferir acerca de nuestros datos utilizando estos valores."
   ]
  },
  {
   "cell_type": "code",
   "execution_count": 1,
   "metadata": {},
   "outputs": [],
   "source": [
    "import pandas as pd"
   ]
  },
  {
   "cell_type": "code",
   "execution_count": 2,
   "metadata": {},
   "outputs": [],
   "source": [
    "serie_1 = pd.Series([1, 1, 1, 1, 1, 2, 2, 2, 2, 2, 2, 3, 3, 3, 3, 3, 3, 3, 4, 4, 4, 4, 4, 4, 4, 4, 5, 5, 5, 5, 5, 5, 5, 5, 5, 5, 5, 6, 6, 6, 6, 6, 6, 6, 6, 7, 7, 7, 7, 7, 7, 7, 7, 7, 8, 8, 8, 8, 8, 8, 8, 9, 9, 9, 9, 9, 9, 10, 10, 10, 10, 10])\n",
    "serie_2 = pd.Series([1, 1, 1, 2, 2, 2, 2, 2, 3, 3, 3, 3, 4, 4, 4, 4, 4, 4, 5, 5, 5, 5, 5, 5, 6, 6, 6, 6, 6, 6, 6, 6, 6, 6, 6, 6, 7, 7, 7, 7, 7, 7, 7, 7, 7, 7, 7, 7, 7, 7, 7, 7, 7, 7, 8, 8, 8, 8, 8, 8, 8, 8, 8, 8, 8, 8, 8, 8, 8, 8, 8, 8, 8, 8, 8, 8, 8, 8, 8, 9, 9, 9, 9, 9, 9, 9, 9, 9, 9, 10, 10, 10, 10, 10, 10, 10, 10, 10, 10])\n",
    "serie_3 = pd.Series([1, 1, 2, 2, 2, 3, 3, 3, 4, 4, 4, 4, 4, 4, 4, 4, 4, 4, 4, 4, 4, 4, 4, 5, 5, 5, 5, 5, 5, 5, 5, 5, 5, 5, 5, 5, 5, 5, 5, 5, 5, 5, 5, 5, 5, 5, 5, 5, 5, 5, 5, 5, 5, 5, 5, 5, 5, 5, 5, 5, 5, 5, 5, 5, 5, 5, 5, 5, 6, 6, 6, 6, 6, 6, 6, 6, 6, 6, 6, 6, 6, 6, 6, 6, 6, 6, 6, 6, 6, 6, 6, 6, 6, 6, 6, 6, 6, 6, 6, 6, 6, 6, 6, 6, 7, 7, 7, 7, 7, 7, 7, 7, 7, 7, 7, 7, 7, 7, 7, 7, 7, 7, 8, 8, 8, 8, 9, 9, 9, 10, 10])\n",
    "serie_4 = pd.Series([1, 1, 1, 1, 1, 1, 1, 2, 2, 2, 2, 2, 2, 2, 2, 2, 2, 2, 2, 2, 2, 2, 2, 2, 2, 3, 3, 3, 3, 3, 3, 3, 3, 3, 3, 3, 3, 3, 3, 3, 3, 3, 3, 3, 3, 3, 3, 3, 3, 3, 3, 3, 4, 4, 4, 4, 4, 4, 4, 4, 4, 4, 4, 4, 4, 4, 5, 5, 5, 5, 5, 5, 5, 5, 5, 6, 6, 6, 6, 6, 6, 6, 7, 7, 7, 7, 7, 8, 8, 8, 8, 8, 9, 9, 9, 9, 10, 10, 10])"
   ]
  },
  {
   "cell_type": "code",
   "execution_count": 5,
   "metadata": {},
   "outputs": [
    {
     "name": "stdout",
     "output_type": "stream",
     "text": [
      "Valor mínimo: 1\n",
      "Percentil 0: 1.0\n",
      "Percentil 10: 2.0\n",
      "Percentil 25: 3.75\n",
      "Percentil 50: 5.0\n",
      "Mediana: 5.0\n",
      "Percentil 75: 7.25\n",
      "Percentil 90: 9.0\n",
      "Percentil 100: 10.0\n",
      "Valor máximo: 10\n",
      "Promedio: 5.5\n"
     ]
    }
   ],
   "source": [
    "print(f'Valor mínimo: {serie_1.min()}')\n",
    "print(f'Percentil 0: {serie_1.quantile(0)}')\n",
    "print(f'Percentil 10: {serie_1.quantile(0.1)}')\n",
    "print(f'Percentil 25: {serie_1.quantile(0.25)}')\n",
    "print(f'Percentil 50: {serie_1.median()}')\n",
    "print(f'Mediana: {serie_1.quantile(0.5)}')\n",
    "print(f'Percentil 75: {serie_1.quantile(0.75)}')\n",
    "print(f'Percentil 90: {serie_1.quantile(0.9)}')\n",
    "print(f'Percentil 100: {serie_1.quantile(1)}')\n",
    "print(f'Valor máximo: {serie_1.max()}')\n",
    "print(f'Promedio: {serie_1.mean()}')"
   ]
  },
  {
   "cell_type": "code",
   "execution_count": 11,
   "metadata": {},
   "outputs": [
    {
     "name": "stdout",
     "output_type": "stream",
     "text": [
      "Valor mínimo: 1\n",
      "Percentil 0: 1.0\n",
      "Percentil 10: 3.0\n",
      "Percentil 25: 6.0\n",
      "Percentil 50: 7.0\n",
      "Mediana: 7.0\n",
      "Percentil 75: 8.0\n",
      "Percentil 90: 9.200000000000003\n",
      "Percentil 100: 10.0\n",
      "Valor máximo: 10\n",
      "Promedio: 6.737373737373737\n"
     ]
    }
   ],
   "source": [
    "print(f'Valor mínimo: {serie_2.min()}')\n",
    "print(f'Percentil 0: {serie_2.quantile(0)}')\n",
    "print(f'Percentil 10: {serie_2.quantile(0.1)}')\n",
    "print(f'Percentil 25: {serie_2.quantile(0.25)}')\n",
    "print(f'Percentil 50: {serie_2.median()}')\n",
    "print(f'Mediana: {serie_2.quantile(0.5)}')\n",
    "print(f'Percentil 75: {serie_2.quantile(0.75)}')\n",
    "print(f'Percentil 90: {serie_2.quantile(0.9)}')\n",
    "print(f'Percentil 100: {serie_2.quantile(1)}')\n",
    "print(f'Valor máximo: {serie_2.max()}')\n",
    "print(f'Promedio: {serie_2.mean()}')"
   ]
  },
  {
   "cell_type": "code",
   "execution_count": 12,
   "metadata": {},
   "outputs": [
    {
     "name": "stdout",
     "output_type": "stream",
     "text": [
      "Valor mínimo: 1\n",
      "Percentil 0: 1.0\n",
      "Percentil 10: 4.0\n",
      "Percentil 25: 5.0\n",
      "Percentil 50: 5.0\n",
      "Mediana: 5.0\n",
      "Percentil 75: 6.0\n",
      "Percentil 90: 7.0\n",
      "Percentil 100: 10.0\n",
      "Valor máximo: 10\n",
      "Promedio: 5.519083969465649\n"
     ]
    }
   ],
   "source": [
    "print(f'Valor mínimo: {serie_3.min()}')\n",
    "print(f'Percentil 0: {serie_3.quantile(0)}')\n",
    "print(f'Percentil 10: {serie_3.quantile(0.1)}')\n",
    "print(f'Percentil 25: {serie_3.quantile(0.25)}')\n",
    "print(f'Percentil 50: {serie_3.median()}')\n",
    "print(f'Mediana: {serie_3.quantile(0.5)}')\n",
    "print(f'Percentil 75: {serie_3.quantile(0.75)}')\n",
    "print(f'Percentil 90: {serie_3.quantile(0.9)}')\n",
    "print(f'Percentil 100: {serie_3.quantile(1)}')\n",
    "print(f'Valor máximo: {serie_3.max()}')\n",
    "print(f'Promedio: {serie_3.mean()}')"
   ]
  },
  {
   "cell_type": "code",
   "execution_count": 13,
   "metadata": {},
   "outputs": [
    {
     "name": "stdout",
     "output_type": "stream",
     "text": [
      "Valor mínimo: 1\n",
      "Percentil 0: 1.0\n",
      "Percentil 10: 2.0\n",
      "Percentil 25: 2.5\n",
      "Percentil 50: 3.0\n",
      "Mediana: 3.0\n",
      "Percentil 75: 5.0\n",
      "Percentil 90: 8.0\n",
      "Percentil 100: 10.0\n",
      "Valor máximo: 10\n",
      "Promedio: 4.121212121212121\n"
     ]
    }
   ],
   "source": [
    "print(f'Valor mínimo: {serie_4.min()}')\n",
    "print(f'Percentil 0: {serie_4.quantile(0)}')\n",
    "print(f'Percentil 10: {serie_4.quantile(0.1)}')\n",
    "print(f'Percentil 25: {serie_4.quantile(0.25)}')\n",
    "print(f'Percentil 50: {serie_4.median()}')\n",
    "print(f'Mediana: {serie_4.quantile(0.5)}')\n",
    "print(f'Percentil 75: {serie_4.quantile(0.75)}')\n",
    "print(f'Percentil 90: {serie_4.quantile(0.9)}')\n",
    "print(f'Percentil 100: {serie_4.quantile(1)}')\n",
    "print(f'Valor máximo: {serie_4.max()}')\n",
    "print(f'Promedio: {serie_4.mean()}')"
   ]
  },
  {
   "cell_type": "markdown",
   "metadata": {},
   "source": [
    "#### b) Percentiles para evaluar nuestro dataset de meteoritos\n",
    "\n",
    "Ahora vamos a aplicar los percentiles a nuestro dataset de objetos que han orbitado cerca de la Tierra. Queremos entender cómo están organizados nuestros datos.\n",
    "\n",
    "En el Reto pasado, usamos la desviación estándar para obtener la \"desviación esperada\" de nuestros datos. Aprendimos que la mayoría de nuestros datos están a una distancia de 1 desviación estándar o menos del promedio. Entre más desviaciones estándares añadíamos, menos datos quedaban fuera de nuestros subconjuntos. Lo que no sabemos es dónde están concentrados nuestros datos.\n",
    "\n",
    "Piensa en lo siguiente:\n",
    "\n",
    "Si tenemos un dataset con rango de 1 a 10, y nuestra desviación estándar es 2.5, los datos pueden estar organizados de maneras muy distintas:\n",
    "\n",
    "- Podría ser que el promedio es 3 y que la mayoría de los datos están en el rango de 0.5 a 5.5. En este caso podría haber datos muy distintos al resto en el parte superior del rango total (los valores entre 5.5 y 10).\n",
    "- Podría ser que el promedio es 7 y que la mayoría de los datos están en el rango de 4.5 a 9.5. En este caso los datos atípicos estarían concentrados en la parte inferior del rango total.\n",
    "- Podría ser que el promedio es 5 y que la mayoría de los datos están concentrados en el rango de 2.5 a 7.5. En este caso, lo más normal es que los datos estén alrededor del valor que está justo a la mitad del rango total y es cada vez más raro encontrar datos muy pequeños o muy grandes.\n",
    "\n",
    "Hay muchas otras posibilidades, pero lo importante es darse cuenta de que saber solamente la desviación estándar nos da aún una descripción muy ambigua de nuestros datos. Saber el promedio ya es un primer indicador de lo que está pasando en realidad. Pero saber además los percentiles nos puede dar una idea muchísimo más clara de cómo están acomodados nuestros datos.\n",
    "\n",
    "Lee el dataset 'near_earth_objects-jan_feb_1995-clean.csv' y obtén percentiles de la columna 'estimated_diameter.meters.estimated_diameter_max'. Comenta con tus compañeros y con la experta tus hallazgos y tus hipótesis acerca de qué podemos aprender sobre la organización de nuestros datos usando los percentiles."
   ]
  },
  {
   "cell_type": "code",
   "execution_count": 7,
   "metadata": {},
   "outputs": [],
   "source": [
    "import pandas as pd"
   ]
  },
  {
   "cell_type": "code",
   "execution_count": 16,
   "metadata": {},
   "outputs": [],
   "source": [
    "df = pd.read_csv(\"near_earth_objects-jan_feb_1995-clean.csv\")\n",
    "columna = \"estimated_diameter.meters.estimated_diameter_max\""
   ]
  },
  {
   "cell_type": "code",
   "execution_count": 17,
   "metadata": {},
   "outputs": [
    {
     "ename": "SyntaxError",
     "evalue": "expression cannot contain assignment, perhaps you meant \"==\"? (<ipython-input-17-6ea327787761>, line 2)",
     "output_type": "error",
     "traceback": [
      "\u001b[1;36m  File \u001b[1;32m\"<ipython-input-17-6ea327787761>\"\u001b[1;36m, line \u001b[1;32m2\u001b[0m\n\u001b[1;33m    print(\"P\"(\" + str (i*10) + \") = \" +\u001b[0m\n\u001b[1;37m          ^\u001b[0m\n\u001b[1;31mSyntaxError\u001b[0m\u001b[1;31m:\u001b[0m expression cannot contain assignment, perhaps you meant \"==\"?\n"
     ]
    }
   ],
   "source": [
    "for i in range(11):\n",
    "    print(\"P\"(\" + str (i*10) + \") = \" + "
   ]
  }
 ],
 "metadata": {
  "kernelspec": {
   "display_name": "Python 3",
   "language": "python",
   "name": "python3"
  },
  "language_info": {
   "codemirror_mode": {
    "name": "ipython",
    "version": 3
   },
   "file_extension": ".py",
   "mimetype": "text/x-python",
   "name": "python",
   "nbconvert_exporter": "python",
   "pygments_lexer": "ipython3",
   "version": "3.9.1"
  }
 },
 "nbformat": 4,
 "nbformat_minor": 4
}
