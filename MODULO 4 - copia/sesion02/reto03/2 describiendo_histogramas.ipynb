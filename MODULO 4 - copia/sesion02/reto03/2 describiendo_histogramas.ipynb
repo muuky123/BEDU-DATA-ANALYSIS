{
 "cells": [
  {
   "cell_type": "markdown",
   "metadata": {
    "id": "R2QglcPnETP5"
   },
   "source": [
    "# Reto 3: Describiendo histogramas\n",
    "\n",
    "## 1. Objetivos:\n",
    "- Generar histogramas y caracterizarlos utilizando las herramientas que hemos aprendido hasta el momento\n",
    " \n",
    "---\n",
    "    \n",
    "## 2. Desarrollo:"
   ]
  },
  {
   "cell_type": "markdown",
   "metadata": {
    "id": "UoMDfBQ0ETP6"
   },
   "source": [
    "#### a) Pima Indians Diabetes Database\n",
    "\n",
    "Vamos a analizar un conjunto de datos que contiene datos acerca del estado de salud de mujeres menores de 21 años de ascendencia [pima](https://es.wikipedia.org/wiki/Pueblo_pima). El conjunto también tiene una columna 'outcome' que indica si las pacientes fueron diagnosticadas con diabetes o no. Puedes ver la descripción completa [aquí](https://www.kaggle.com/uciml/pima-indians-diabetes-database).  El dataset está guardado con el nombre de `diabetes-clean.csv`.\n",
    "\n",
    "- Todas las variables independientes en este dataset son numéricas. Genera histogramas de todas las variables independientes para observar la distribución de estas variables. Un valor aceptable para el número de `bins` es `10`. Después de generar el histograma, caracterízalo con una descripción utilizando los términos que has aprendido en esta sesión.\n",
    "\n",
    "- Intenta también discernir a simple vista la asimetría y curtosis de tus histogramas, y después confirma tus hipótesis utilizando las funciones `kurtosis` y `skew` del módulo `scipy.stats`.\n",
    "\n",
    "- Ve si te es posible identificar la cantidad y magnitud de los valores atípicos usando histogramas. ¿Cuál ha sido la técnica que te ha facilitado más la identificación de valores atípicos? ¿Boxplots, tablas de frecuencias o histogramas?\n",
    "\n",
    "Comenta con la experta y con tus compañeros por qué crees que esas variables tengan la distribución que tienen.\n",
    "\n",
    "**Dataset**: https://raw.githubusercontent.com/manu-msr/beduadp/master/Datasets/diabetes-clean.csv"
   ]
  },
  {
   "cell_type": "code",
   "execution_count": 5,
   "metadata": {},
   "outputs": [],
   "source": [
    "import numpy as np\n",
    "import seaborn as sns\n",
    "from scipy.stats import skew, kurtosis\n",
    "import pandas as pd\n",
    "sns.set_style('white')"
   ]
  },
  {
   "cell_type": "code",
   "execution_count": 26,
   "metadata": {
    "id": "_p725i6NETP7"
   },
   "outputs": [],
   "source": [
    "df = pd.read_csv('https://raw.githubusercontent.com/manu-msr/beduadp/master/Datasets/diabetes-clean.csv',index_col=0)"
   ]
  },
  {
   "cell_type": "code",
   "execution_count": 27,
   "metadata": {},
   "outputs": [
    {
     "ename": "NameError",
     "evalue": "name 'pregnancies' is not defined",
     "output_type": "error",
     "traceback": [
      "\u001b[1;31m---------------------------------------------------------------------------\u001b[0m",
      "\u001b[1;31mNameError\u001b[0m                                 Traceback (most recent call last)",
      "\u001b[1;32m<ipython-input-27-77b95c0c5728>\u001b[0m in \u001b[0;36m<module>\u001b[1;34m\u001b[0m\n\u001b[1;32m----> 1\u001b[1;33m \u001b[0mpregnancies\u001b[0m\u001b[1;33m,\u001b[0m\u001b[0mglucose\u001b[0m\u001b[1;33m,\u001b[0m\u001b[0mblood_pressure\u001b[0m\u001b[1;33m,\u001b[0m\u001b[0mskin_thickness\u001b[0m\u001b[1;33m,\u001b[0m\u001b[0minsulin\u001b[0m\u001b[1;33m,\u001b[0m\u001b[0mbmi\u001b[0m\u001b[1;33m,\u001b[0m\u001b[0mdiabetes_pedigree_function\u001b[0m\u001b[1;33m,\u001b[0m\u001b[0mage\u001b[0m\u001b[1;33m,\u001b[0m\u001b[0moutcome\u001b[0m\u001b[1;33m\u001b[0m\u001b[1;33m\u001b[0m\u001b[0m\n\u001b[0m",
      "\u001b[1;31mNameError\u001b[0m: name 'pregnancies' is not defined"
     ]
    }
   ],
   "source": [
    "blood_pressure,skin_thickness,insulin,bmi,diabetes_pedigree_function,age,outcome"
   ]
  },
  {
   "cell_type": "code",
   "execution_count": 29,
   "metadata": {},
   "outputs": [
    {
     "name": "stdout",
     "output_type": "stream",
     "text": [
      "Curtosis: -0.5244944887652805\n",
      "Asimetría: 0.109158762323673\n"
     ]
    },
    {
     "data": {
      "image/png": "[encoded data removed]",
      "text/plain": [
       "<Figure size 360x360 with 1 Axes>"
      ]
     },
     "metadata": {},
     "output_type": "display_data"
    }
   ],
   "source": [
    "sns.displot(df[\"skin_thickness\"], bins = 10, kde=False);\n",
    "print(f'Curtosis: {kurtosis(df[\"skin_thickness\"])}')\n",
    "print(f'Asimetría: {skew(df[\"skin_thickness\"])}')"
   ]
  },
  {
   "cell_type": "code",
   "execution_count": 30,
   "metadata": {},
   "outputs": [
    {
     "name": "stdout",
     "output_type": "stream",
     "text": [
      "Curtosis: 0.6288133337300685\n",
      "Asimetría: 0.17341395519987735\n"
     ]
    },
    {
     "data": {
      "image/png": "[encoded data removed]",
      "text/plain": [
       "<Figure size 360x360 with 1 Axes>"
      ]
     },
     "metadata": {},
     "output_type": "display_data"
    }
   ],
   "source": [
    "sns.displot(df[\"glucose\"], bins = 10, kde=False);\n",
    "print(f'Curtosis: {kurtosis(df[\"glucose\"])}')\n",
    "print(f'Asimetría: {skew(df[\"glucose\"])}')"
   ]
  },
  {
   "cell_type": "code",
   "execution_count": 31,
   "metadata": {},
   "outputs": [
    {
     "name": "stdout",
     "output_type": "stream",
     "text": [
      "Curtosis: [ 0.15038274  0.62881333  5.13869066 -0.52449449  7.15957492  3.26125742\n",
      "  5.55079205  0.63117694 -1.59832836]\n",
      "Asimetría: [ 0.89991194  0.17341396 -1.84000523  0.10915876  2.26781046 -0.42814328\n",
      "  1.9161592   1.12738926  0.6337757 ]\n"
     ]
    }
   ],
   "source": [
    "print(f'Curtosis: {kurtosis(df)}')\n",
    "print(f'Asimetría: {skew(df)}')"
   ]
  }
 ],
 "metadata": {
  "colab": {
   "collapsed_sections": [],
   "name": "describiendo_histogramas.ipynb",
   "provenance": []
  },
  "kernelspec": {
   "display_name": "Python 3",
   "language": "python",
   "name": "python3"
  },
  "language_info": {
   "codemirror_mode": {
    "name": "ipython",
    "version": 3
   },
   "file_extension": ".py",
   "mimetype": "text/x-python",
   "name": "python",
   "nbconvert_exporter": "python",
   "pygments_lexer": "ipython3",
   "version": "3.9.1"
  }
 },
 "nbformat": 4,
 "nbformat_minor": 4
}
