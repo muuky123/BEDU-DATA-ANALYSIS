{
 "cells": [
  {
   "cell_type": "markdown",
   "metadata": {},
   "source": [
    "# Reto 2: Tablas de frecuencias\n",
    "\n",
    "## 1. Objetivos:\n",
    "- Aprender a generar tablas de frecuencias segmentando nuestros datos\n",
    " \n",
    "---\n",
    "    \n",
    "## 2. Desarrollo:"
   ]
  },
  {
   "cell_type": "markdown",
   "metadata": {},
   "source": [
    "#### a) Analizando distribución con tablas de frecuencias\n",
    "\n",
    "Vamos a generar tablas de frecuencias de los siguientes datasets y columnas:\n",
    "\n",
    "1. Dataset: 'near_earth_objects-jan_feb_1995-clean.csv'\n",
    "    - Columnas a graficar: 'estimated_diameter.meters.estimated_diameter_max' y 'relative_velocity.kilometers_per_second'\n",
    "2. Dataset: 'new_york_times_bestsellers-clean.json'\n",
    "    - Columnas a graficar: 'price.numberDouble'\n",
    "3. Dataset: 'melbourne_housing-clean.csv'\n",
    "    - Columnas a graficar: 'land_size'\n",
    "    \n",
    "Estos conjuntos de datos son los mismos que graficamos en el Reto anterior. Antes de generar las tablas de frecuencias, revisa el rango de tus conjuntos de datos y decide el número de segmentos adecuado para cada uno.\n",
    "\n",
    "Después, genera las tablas de frecuencias para cada uno de estos conjuntos de datos y compáralos con las gráficas de caja que realizaste en el Reto anterior. ¿Hay información nueva? ¿Qué ventajas o desventajas nos da esta nueva perspectiva?\n",
    "\n",
    "Piensa cuál de las dos aproximaciones (boxplots y tablas de frecuencia) resulta más útil para detectar valores atípicos. ¿O simplemente son útiles en diferentes contextos?"
   ]
  },
  {
   "cell_type": "code",
   "execution_count": 1,
   "metadata": {},
   "outputs": [],
   "source": [
    "import seaborn as sns\n",
    "import matplotlib.pyplot as plt\n",
    "import pandas as pd"
   ]
  },
  {
   "cell_type": "code",
   "execution_count": 4,
   "metadata": {},
   "outputs": [
    {
     "data": {
      "text/plain": [
       "6513.905031051"
      ]
     },
     "execution_count": 4,
     "metadata": {},
     "output_type": "execute_result"
    }
   ],
   "source": [
    "df1 = pd.read_csv('https://raw.githubusercontent.com/manu-msr/beduadp/master/Datasets/near_earth_objects-jan_feb_1995-clean.csv',index_col=0)\n",
    "\n",
    "diametro = (\"estimated_diameter.meters.estimated_diameter_max\")\n",
    "velocidad = (\"relative_velocity.kilometers_per_second\")\n",
    "\n",
    "diametro = df1[diametro]\n",
    "diametro.max() - diametro.min() #rango"
   ]
  },
  {
   "cell_type": "code",
   "execution_count": 13,
   "metadata": {},
   "outputs": [
    {
     "data": {
      "text/plain": [
       "0      (980.065, 1305.76]\n",
       "1       (-3.535, 328.674]\n",
       "2       (-3.535, 328.674]\n",
       "3       (-3.535, 328.674]\n",
       "4       (-3.535, 328.674]\n",
       "              ...        \n",
       "328    (980.065, 1305.76]\n",
       "329    (980.065, 1305.76]\n",
       "330    (328.674, 654.369]\n",
       "331    (654.369, 980.065]\n",
       "332     (-3.535, 328.674]\n",
       "Name: estimated_diameter.meters.estimated_diameter_max, Length: 333, dtype: category\n",
       "Categories (20, interval[float64]): [(-3.535, 328.674] < (328.674, 654.369] < (654.369, 980.065] < (980.065, 1305.76] ... (5214.103, 5539.798] < (5539.798, 5865.493] < (5865.493, 6191.189] < (6191.189, 6516.884]]"
      ]
     },
     "execution_count": 13,
     "metadata": {},
     "output_type": "execute_result"
    }
   ],
   "source": [
    "segmentos_d = pd.cut(diametro, 20)\n",
    "\n",
    "segmentos_d"
   ]
  },
  {
   "cell_type": "code",
   "execution_count": 15,
   "metadata": {},
   "outputs": [
    {
     "data": {
      "text/plain": [
       "estimated_diameter.meters.estimated_diameter_max\n",
       "(-3.535, 328.674]       207\n",
       "(328.674, 654.369]       67\n",
       "(654.369, 980.065]       24\n",
       "(980.065, 1305.76]       18\n",
       "(1305.76, 1631.455]       4\n",
       "(1631.455, 1957.15]       6\n",
       "(1957.15, 2282.846]       1\n",
       "(2282.846, 2608.541]      1\n",
       "(2608.541, 2934.236]      1\n",
       "(2934.236, 3259.931]      1\n",
       "(3259.931, 3585.627]      1\n",
       "(3585.627, 3911.322]      1\n",
       "(3911.322, 4237.017]      0\n",
       "(4237.017, 4562.712]      0\n",
       "(4562.712, 4888.408]      0\n",
       "(4888.408, 5214.103]      0\n",
       "(5214.103, 5539.798]      0\n",
       "(5539.798, 5865.493]      0\n",
       "(5865.493, 6191.189]      0\n",
       "(6191.189, 6516.884]      1\n",
       "Name: estimated_diameter.meters.estimated_diameter_max, dtype: int64"
      ]
     },
     "execution_count": 15,
     "metadata": {},
     "output_type": "execute_result"
    }
   ],
   "source": [
    "df1[\"estimated_diameter.meters.estimated_diameter_max\"].groupby(segmentos_d).count()"
   ]
  },
  {
   "cell_type": "code",
   "execution_count": 5,
   "metadata": {},
   "outputs": [
    {
     "data": {
      "text/plain": [
       "39.8459916905"
      ]
     },
     "execution_count": 5,
     "metadata": {},
     "output_type": "execute_result"
    }
   ],
   "source": [
    "velocidad = df1[velocidad]\n",
    "velocidad.max() - velocidad.min() #rango"
   ]
  },
  {
   "cell_type": "code",
   "execution_count": 16,
   "metadata": {},
   "outputs": [
    {
     "data": {
      "text/plain": [
       "0       (14.628, 16.62]\n",
       "1      (10.643, 12.635]\n",
       "2        (4.666, 6.658]\n",
       "3      (20.604, 22.597]\n",
       "4        (4.666, 6.658]\n",
       "             ...       \n",
       "328     (14.628, 16.62]\n",
       "329     (14.628, 16.62]\n",
       "330    (18.612, 20.604]\n",
       "331    (28.574, 30.566]\n",
       "332      (6.658, 8.651]\n",
       "Name: relative_velocity.kilometers_per_second, Length: 333, dtype: category\n",
       "Categories (20, interval[float64]): [(0.642, 2.674] < (2.674, 4.666] < (4.666, 6.658] < (6.658, 8.651] ... (32.558, 34.551] < (34.551, 36.543] < (36.543, 38.535] < (38.535, 40.527]]"
      ]
     },
     "execution_count": 16,
     "metadata": {},
     "output_type": "execute_result"
    }
   ],
   "source": [
    "segmentos_v = pd.cut(velocidad, 20)\n",
    "\n",
    "segmentos_v"
   ]
  },
  {
   "cell_type": "code",
   "execution_count": 17,
   "metadata": {},
   "outputs": [
    {
     "data": {
      "text/plain": [
       "estimated_diameter.meters.estimated_diameter_max\n",
       "(-3.535, 328.674]       207\n",
       "(328.674, 654.369]       67\n",
       "(654.369, 980.065]       24\n",
       "(980.065, 1305.76]       18\n",
       "(1305.76, 1631.455]       4\n",
       "(1631.455, 1957.15]       6\n",
       "(1957.15, 2282.846]       1\n",
       "(2282.846, 2608.541]      1\n",
       "(2608.541, 2934.236]      1\n",
       "(2934.236, 3259.931]      1\n",
       "(3259.931, 3585.627]      1\n",
       "(3585.627, 3911.322]      1\n",
       "(3911.322, 4237.017]      0\n",
       "(4237.017, 4562.712]      0\n",
       "(4562.712, 4888.408]      0\n",
       "(4888.408, 5214.103]      0\n",
       "(5214.103, 5539.798]      0\n",
       "(5539.798, 5865.493]      0\n",
       "(5865.493, 6191.189]      0\n",
       "(6191.189, 6516.884]      1\n",
       "Name: relative_velocity.kilometers_per_second, dtype: int64"
      ]
     },
     "execution_count": 17,
     "metadata": {},
     "output_type": "execute_result"
    }
   ],
   "source": [
    "df1[\"relative_velocity.kilometers_per_second\"].groupby(segmentos_d).count()"
   ]
  },
  {
   "cell_type": "code",
   "execution_count": 22,
   "metadata": {},
   "outputs": [
    {
     "data": {
      "text/html": [
       "<div>\n",
       "<style scoped>\n",
       "    .dataframe tbody tr th:only-of-type {\n",
       "        vertical-align: middle;\n",
       "    }\n",
       "\n",
       "    .dataframe tbody tr th {\n",
       "        vertical-align: top;\n",
       "    }\n",
       "\n",
       "    .dataframe thead th {\n",
       "        text-align: right;\n",
       "    }\n",
       "</style>\n",
       "<table border=\"1\" class=\"dataframe\">\n",
       "  <thead>\n",
       "    <tr style=\"text-align: right;\">\n",
       "      <th></th>\n",
       "      <th>amazon_product_url</th>\n",
       "      <th>author</th>\n",
       "      <th>description</th>\n",
       "      <th>publisher</th>\n",
       "      <th>title</th>\n",
       "      <th>oid</th>\n",
       "      <th>bestsellers_date.numberLong</th>\n",
       "      <th>published_date.numberLong</th>\n",
       "      <th>rank.numberInt</th>\n",
       "      <th>rank_last_week.numberInt</th>\n",
       "      <th>weeks_on_list.numberInt</th>\n",
       "      <th>price.numberDouble</th>\n",
       "    </tr>\n",
       "  </thead>\n",
       "  <tbody>\n",
       "    <tr>\n",
       "      <th>0</th>\n",
       "      <td>http://www.amazon.com/The-Host-Novel-Stephenie...</td>\n",
       "      <td>Stephenie Meyer</td>\n",
       "      <td>Aliens have taken control of the minds and bod...</td>\n",
       "      <td>Little, Brown</td>\n",
       "      <td>THE HOST</td>\n",
       "      <td>5b4aa4ead3089013507db18c</td>\n",
       "      <td>1211587200000</td>\n",
       "      <td>1212883200000</td>\n",
       "      <td>2</td>\n",
       "      <td>1</td>\n",
       "      <td>3</td>\n",
       "      <td>25.99</td>\n",
       "    </tr>\n",
       "    <tr>\n",
       "      <th>1</th>\n",
       "      <td>http://www.amazon.com/Love-Youre-With-Emily-Gi...</td>\n",
       "      <td>Emily Giffin</td>\n",
       "      <td>A woman's happy marriage is shaken when she en...</td>\n",
       "      <td>St. Martin's</td>\n",
       "      <td>LOVE THE ONE YOU'RE WITH</td>\n",
       "      <td>5b4aa4ead3089013507db18d</td>\n",
       "      <td>1211587200000</td>\n",
       "      <td>1212883200000</td>\n",
       "      <td>3</td>\n",
       "      <td>2</td>\n",
       "      <td>2</td>\n",
       "      <td>24.95</td>\n",
       "    </tr>\n",
       "    <tr>\n",
       "      <th>2</th>\n",
       "      <td>http://www.amazon.com/The-Front-Garano-Patrici...</td>\n",
       "      <td>Patricia Cornwell</td>\n",
       "      <td>A Massachusetts state investigator and his tea...</td>\n",
       "      <td>Putnam</td>\n",
       "      <td>THE FRONT</td>\n",
       "      <td>5b4aa4ead3089013507db18e</td>\n",
       "      <td>1211587200000</td>\n",
       "      <td>1212883200000</td>\n",
       "      <td>4</td>\n",
       "      <td>0</td>\n",
       "      <td>1</td>\n",
       "      <td>22.95</td>\n",
       "    </tr>\n",
       "    <tr>\n",
       "      <th>3</th>\n",
       "      <td>http://www.amazon.com/Snuff-Chuck-Palahniuk/dp...</td>\n",
       "      <td>Chuck Palahniuk</td>\n",
       "      <td>An aging porn queens aims to cap her career by...</td>\n",
       "      <td>Doubleday</td>\n",
       "      <td>SNUFF</td>\n",
       "      <td>5b4aa4ead3089013507db18f</td>\n",
       "      <td>1211587200000</td>\n",
       "      <td>1212883200000</td>\n",
       "      <td>5</td>\n",
       "      <td>0</td>\n",
       "      <td>1</td>\n",
       "      <td>24.95</td>\n",
       "    </tr>\n",
       "    <tr>\n",
       "      <th>4</th>\n",
       "      <td>http://www.amazon.com/Sundays-at-Tiffanys-Jame...</td>\n",
       "      <td>James Patterson and Gabrielle Charbonnet</td>\n",
       "      <td>A woman finds an unexpected love</td>\n",
       "      <td>Little, Brown</td>\n",
       "      <td>SUNDAYS AT TIFFANY’S</td>\n",
       "      <td>5b4aa4ead3089013507db190</td>\n",
       "      <td>1211587200000</td>\n",
       "      <td>1212883200000</td>\n",
       "      <td>6</td>\n",
       "      <td>3</td>\n",
       "      <td>4</td>\n",
       "      <td>24.99</td>\n",
       "    </tr>\n",
       "  </tbody>\n",
       "</table>\n",
       "</div>"
      ],
      "text/plain": [
       "                                  amazon_product_url  \\\n",
       "0  http://www.amazon.com/The-Host-Novel-Stephenie...   \n",
       "1  http://www.amazon.com/Love-Youre-With-Emily-Gi...   \n",
       "2  http://www.amazon.com/The-Front-Garano-Patrici...   \n",
       "3  http://www.amazon.com/Snuff-Chuck-Palahniuk/dp...   \n",
       "4  http://www.amazon.com/Sundays-at-Tiffanys-Jame...   \n",
       "\n",
       "                                     author  \\\n",
       "0                           Stephenie Meyer   \n",
       "1                              Emily Giffin   \n",
       "2                         Patricia Cornwell   \n",
       "3                           Chuck Palahniuk   \n",
       "4  James Patterson and Gabrielle Charbonnet   \n",
       "\n",
       "                                         description      publisher  \\\n",
       "0  Aliens have taken control of the minds and bod...  Little, Brown   \n",
       "1  A woman's happy marriage is shaken when she en...   St. Martin's   \n",
       "2  A Massachusetts state investigator and his tea...         Putnam   \n",
       "3  An aging porn queens aims to cap her career by...      Doubleday   \n",
       "4                   A woman finds an unexpected love  Little, Brown   \n",
       "\n",
       "                      title                       oid  \\\n",
       "0                  THE HOST  5b4aa4ead3089013507db18c   \n",
       "1  LOVE THE ONE YOU'RE WITH  5b4aa4ead3089013507db18d   \n",
       "2                 THE FRONT  5b4aa4ead3089013507db18e   \n",
       "3                     SNUFF  5b4aa4ead3089013507db18f   \n",
       "4      SUNDAYS AT TIFFANY’S  5b4aa4ead3089013507db190   \n",
       "\n",
       "   bestsellers_date.numberLong  published_date.numberLong  rank.numberInt  \\\n",
       "0                1211587200000              1212883200000               2   \n",
       "1                1211587200000              1212883200000               3   \n",
       "2                1211587200000              1212883200000               4   \n",
       "3                1211587200000              1212883200000               5   \n",
       "4                1211587200000              1212883200000               6   \n",
       "\n",
       "   rank_last_week.numberInt  weeks_on_list.numberInt  price.numberDouble  \n",
       "0                         1                        3               25.99  \n",
       "1                         2                        2               24.95  \n",
       "2                         0                        1               22.95  \n",
       "3                         0                        1               24.95  \n",
       "4                         3                        4               24.99  "
      ]
     },
     "execution_count": 22,
     "metadata": {},
     "output_type": "execute_result"
    }
   ],
   "source": [
    "df2 = pd.read_json(\"https://raw.githubusercontent.com/manu-msr/beduadp/master/Datasets/new_york_times_bestsellers-clean.json\")\n",
    "df2.head()"
   ]
  },
  {
   "cell_type": "code",
   "execution_count": 25,
   "metadata": {},
   "outputs": [
    {
     "data": {
      "text/plain": [
       "20.0"
      ]
     },
     "execution_count": 25,
     "metadata": {},
     "output_type": "execute_result"
    }
   ],
   "source": [
    "price = (\"price.numberDouble\")\n",
    "\n",
    "price = df2[price]\n",
    "price.max() - price.min()"
   ]
  },
  {
   "cell_type": "code",
   "execution_count": 32,
   "metadata": {},
   "outputs": [],
   "source": [
    "segmento_p = pd.cut(price, 10) "
   ]
  },
  {
   "cell_type": "code",
   "execution_count": 33,
   "metadata": {},
   "outputs": [
    {
     "data": {
      "text/plain": [
       "price.numberDouble\n",
       "(14.97, 16.99]      14\n",
       "(16.99, 18.99]       0\n",
       "(18.99, 20.99]      33\n",
       "(20.99, 22.99]      33\n",
       "(22.99, 24.99]     446\n",
       "(24.99, 26.99]    1257\n",
       "(26.99, 28.99]    1154\n",
       "(28.99, 30.99]      84\n",
       "(30.99, 32.99]       0\n",
       "(32.99, 34.99]      12\n",
       "Name: price.numberDouble, dtype: int64"
      ]
     },
     "execution_count": 33,
     "metadata": {},
     "output_type": "execute_result"
    }
   ],
   "source": [
    "df2[\"price.numberDouble\"].groupby(segmento_p).count()"
   ]
  },
  {
   "cell_type": "code",
   "execution_count": 35,
   "metadata": {},
   "outputs": [
    {
     "data": {
      "text/html": [
       "<div>\n",
       "<style scoped>\n",
       "    .dataframe tbody tr th:only-of-type {\n",
       "        vertical-align: middle;\n",
       "    }\n",
       "\n",
       "    .dataframe tbody tr th {\n",
       "        vertical-align: top;\n",
       "    }\n",
       "\n",
       "    .dataframe thead th {\n",
       "        text-align: right;\n",
       "    }\n",
       "</style>\n",
       "<table border=\"1\" class=\"dataframe\">\n",
       "  <thead>\n",
       "    <tr style=\"text-align: right;\">\n",
       "      <th></th>\n",
       "      <th>suburb</th>\n",
       "      <th>address</th>\n",
       "      <th>rooms</th>\n",
       "      <th>type</th>\n",
       "      <th>price</th>\n",
       "      <th>method</th>\n",
       "      <th>seller_g</th>\n",
       "      <th>date</th>\n",
       "      <th>distance</th>\n",
       "      <th>postcode</th>\n",
       "      <th>bedroom_2</th>\n",
       "      <th>bathroom</th>\n",
       "      <th>car</th>\n",
       "      <th>land_size</th>\n",
       "      <th>council_area</th>\n",
       "      <th>latitude</th>\n",
       "      <th>longitude</th>\n",
       "      <th>region_name</th>\n",
       "      <th>property_count</th>\n",
       "    </tr>\n",
       "  </thead>\n",
       "  <tbody>\n",
       "    <tr>\n",
       "      <th>0</th>\n",
       "      <td>Abbotsford</td>\n",
       "      <td>85 Turner St</td>\n",
       "      <td>2</td>\n",
       "      <td>h</td>\n",
       "      <td>1480000.0</td>\n",
       "      <td>S</td>\n",
       "      <td>Biggin</td>\n",
       "      <td>3/12/2016</td>\n",
       "      <td>2.5</td>\n",
       "      <td>3067.0</td>\n",
       "      <td>2.0</td>\n",
       "      <td>1.0</td>\n",
       "      <td>1.0</td>\n",
       "      <td>202.0</td>\n",
       "      <td>Yarra</td>\n",
       "      <td>-37.7996</td>\n",
       "      <td>144.9984</td>\n",
       "      <td>Northern Metropolitan</td>\n",
       "      <td>4019.0</td>\n",
       "    </tr>\n",
       "    <tr>\n",
       "      <th>1</th>\n",
       "      <td>Abbotsford</td>\n",
       "      <td>25 Bloomburg St</td>\n",
       "      <td>2</td>\n",
       "      <td>h</td>\n",
       "      <td>1035000.0</td>\n",
       "      <td>S</td>\n",
       "      <td>Biggin</td>\n",
       "      <td>4/02/2016</td>\n",
       "      <td>2.5</td>\n",
       "      <td>3067.0</td>\n",
       "      <td>2.0</td>\n",
       "      <td>1.0</td>\n",
       "      <td>0.0</td>\n",
       "      <td>156.0</td>\n",
       "      <td>Yarra</td>\n",
       "      <td>-37.8079</td>\n",
       "      <td>144.9934</td>\n",
       "      <td>Northern Metropolitan</td>\n",
       "      <td>4019.0</td>\n",
       "    </tr>\n",
       "    <tr>\n",
       "      <th>2</th>\n",
       "      <td>Abbotsford</td>\n",
       "      <td>5 Charles St</td>\n",
       "      <td>3</td>\n",
       "      <td>h</td>\n",
       "      <td>1465000.0</td>\n",
       "      <td>SP</td>\n",
       "      <td>Biggin</td>\n",
       "      <td>4/03/2017</td>\n",
       "      <td>2.5</td>\n",
       "      <td>3067.0</td>\n",
       "      <td>3.0</td>\n",
       "      <td>2.0</td>\n",
       "      <td>0.0</td>\n",
       "      <td>134.0</td>\n",
       "      <td>Yarra</td>\n",
       "      <td>-37.8093</td>\n",
       "      <td>144.9944</td>\n",
       "      <td>Northern Metropolitan</td>\n",
       "      <td>4019.0</td>\n",
       "    </tr>\n",
       "    <tr>\n",
       "      <th>3</th>\n",
       "      <td>Abbotsford</td>\n",
       "      <td>40 Federation La</td>\n",
       "      <td>3</td>\n",
       "      <td>h</td>\n",
       "      <td>850000.0</td>\n",
       "      <td>PI</td>\n",
       "      <td>Biggin</td>\n",
       "      <td>4/03/2017</td>\n",
       "      <td>2.5</td>\n",
       "      <td>3067.0</td>\n",
       "      <td>3.0</td>\n",
       "      <td>2.0</td>\n",
       "      <td>1.0</td>\n",
       "      <td>94.0</td>\n",
       "      <td>Yarra</td>\n",
       "      <td>-37.7969</td>\n",
       "      <td>144.9969</td>\n",
       "      <td>Northern Metropolitan</td>\n",
       "      <td>4019.0</td>\n",
       "    </tr>\n",
       "    <tr>\n",
       "      <th>4</th>\n",
       "      <td>Abbotsford</td>\n",
       "      <td>55a Park St</td>\n",
       "      <td>4</td>\n",
       "      <td>h</td>\n",
       "      <td>1600000.0</td>\n",
       "      <td>VB</td>\n",
       "      <td>Nelson</td>\n",
       "      <td>4/06/2016</td>\n",
       "      <td>2.5</td>\n",
       "      <td>3067.0</td>\n",
       "      <td>3.0</td>\n",
       "      <td>1.0</td>\n",
       "      <td>2.0</td>\n",
       "      <td>120.0</td>\n",
       "      <td>Yarra</td>\n",
       "      <td>-37.8072</td>\n",
       "      <td>144.9941</td>\n",
       "      <td>Northern Metropolitan</td>\n",
       "      <td>4019.0</td>\n",
       "    </tr>\n",
       "  </tbody>\n",
       "</table>\n",
       "</div>"
      ],
      "text/plain": [
       "       suburb           address  rooms type      price method seller_g  \\\n",
       "0  Abbotsford      85 Turner St      2    h  1480000.0      S   Biggin   \n",
       "1  Abbotsford   25 Bloomburg St      2    h  1035000.0      S   Biggin   \n",
       "2  Abbotsford      5 Charles St      3    h  1465000.0     SP   Biggin   \n",
       "3  Abbotsford  40 Federation La      3    h   850000.0     PI   Biggin   \n",
       "4  Abbotsford       55a Park St      4    h  1600000.0     VB   Nelson   \n",
       "\n",
       "        date  distance  postcode  bedroom_2  bathroom  car  land_size  \\\n",
       "0  3/12/2016       2.5    3067.0        2.0       1.0  1.0      202.0   \n",
       "1  4/02/2016       2.5    3067.0        2.0       1.0  0.0      156.0   \n",
       "2  4/03/2017       2.5    3067.0        3.0       2.0  0.0      134.0   \n",
       "3  4/03/2017       2.5    3067.0        3.0       2.0  1.0       94.0   \n",
       "4  4/06/2016       2.5    3067.0        3.0       1.0  2.0      120.0   \n",
       "\n",
       "  council_area  latitude  longitude            region_name  property_count  \n",
       "0        Yarra  -37.7996   144.9984  Northern Metropolitan          4019.0  \n",
       "1        Yarra  -37.8079   144.9934  Northern Metropolitan          4019.0  \n",
       "2        Yarra  -37.8093   144.9944  Northern Metropolitan          4019.0  \n",
       "3        Yarra  -37.7969   144.9969  Northern Metropolitan          4019.0  \n",
       "4        Yarra  -37.8072   144.9941  Northern Metropolitan          4019.0  "
      ]
     },
     "execution_count": 35,
     "metadata": {},
     "output_type": "execute_result"
    }
   ],
   "source": [
    "df3 = pd.read_csv('https://raw.githubusercontent.com/manu-msr/beduadp/master/Datasets/melbourne_housing-clean.csv',index_col=0)\n",
    "df3.head()"
   ]
  },
  {
   "cell_type": "code",
   "execution_count": 37,
   "metadata": {},
   "outputs": [
    {
     "data": {
      "text/plain": [
       "76000.0"
      ]
     },
     "execution_count": 37,
     "metadata": {},
     "output_type": "execute_result"
    }
   ],
   "source": [
    "terreno = df3['land_size']\n",
    "terreno.max() - terreno.min()"
   ]
  },
  {
   "cell_type": "code",
   "execution_count": 40,
   "metadata": {},
   "outputs": [],
   "source": [
    "segmento_l = pd.cut(terreno, 10)"
   ]
  },
  {
   "cell_type": "code",
   "execution_count": 42,
   "metadata": {},
   "outputs": [
    {
     "data": {
      "text/plain": [
       "land_size\n",
       "(-76.0, 7600.0]       11619\n",
       "(7600.0, 15200.0]        12\n",
       "(15200.0, 22800.0]        9\n",
       "(22800.0, 30400.0]        0\n",
       "(30400.0, 38000.0]        2\n",
       "(38000.0, 45600.0]        2\n",
       "(45600.0, 53200.0]        0\n",
       "(53200.0, 60800.0]        0\n",
       "(60800.0, 68400.0]        0\n",
       "(68400.0, 76000.0]        2\n",
       "Name: land_size, dtype: int64"
      ]
     },
     "execution_count": 42,
     "metadata": {},
     "output_type": "execute_result"
    }
   ],
   "source": [
    "df3['land_size'].groupby(segmento_l).count()"
   ]
  }
 ],
 "metadata": {
  "kernelspec": {
   "display_name": "Python 3",
   "language": "python",
   "name": "python3"
  },
  "language_info": {
   "codemirror_mode": {
    "name": "ipython",
    "version": 3
   },
   "file_extension": ".py",
   "mimetype": "text/x-python",
   "name": "python",
   "nbconvert_exporter": "python",
   "pygments_lexer": "ipython3",
   "version": "3.9.1"
  }
 },
 "nbformat": 4,
 "nbformat_minor": 4
}
