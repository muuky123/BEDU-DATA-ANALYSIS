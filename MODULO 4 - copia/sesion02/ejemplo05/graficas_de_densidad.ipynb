{
 "cells": [
  {
   "cell_type": "markdown",
   "metadata": {},
   "source": [
    "# Ejemplo 5: Gráficas de densidad\n",
    "\n",
    "## 1. Objetivos:\n",
    "- Aprender a generar gráficas de densidad usando Seaborn.\n",
    "- Aprender a usar gráficas de densidad para comparar distribuciones de datos.\n",
    " \n",
    "---\n",
    "    \n",
    "## 2. Desarrollo:"
   ]
  },
  {
   "cell_type": "markdown",
   "metadata": {},
   "source": [
    "Podemos obtener gráficas de densidad usando el método `kdeplot` de Seaborn, sólo cambiando los argumentos que le pasamos:"
   ]
  },
  {
   "cell_type": "code",
   "execution_count": null,
   "metadata": {},
   "outputs": [],
   "source": [
    "import numpy as np\n",
    "import seaborn as sns\n",
    "\n",
    "sns.set(style='whitegrid')"
   ]
  },
  {
   "cell_type": "code",
   "execution_count": null,
   "metadata": {},
   "outputs": [],
   "source": [
    "laplace = np.random.laplace(loc=0.0, scale=1, size=10000)\n",
    "sns.kdeplot(laplace);"
   ]
  },
  {
   "cell_type": "code",
   "execution_count": null,
   "metadata": {},
   "outputs": [],
   "source": [
    "chisquare = np.random.chisquare(4, size=10000)\n",
    "sns.kdeplot(chisquare);"
   ]
  },
  {
   "cell_type": "markdown",
   "metadata": {},
   "source": [
    "Las gráficas de densidad son muy útiles para graficar varias distribuciones en la misma gráfica y poderlas comparar:"
   ]
  },
  {
   "cell_type": "code",
   "execution_count": null,
   "metadata": {},
   "outputs": [],
   "source": [
    "sns.set(style='white')\n",
    "\n",
    "normal_1 = np.random.normal(loc=-2, scale=3, size=10000)\n",
    "normal_2 = np.random.normal(loc=4.5, scale=1, size=10000)\n",
    "exponential = np.random.exponential(scale=1.0, size=10000) - 1\n",
    "\n",
    "sns.kdeplot(normal_1,shade=True);\n",
    "sns.kdeplot(normal_2,shade=True);\n",
    "sns.kdeplot(exponential,shade=True);"
   ]
  },
  {
   "cell_type": "markdown",
   "metadata": {},
   "source": [
    "Como puedes ver, usando gráficas de densidad obtenemos mucha claridad en la comparación. En este ejemplo agregamos la bandera `shade=True` para obtener el color de relleno de cada distribución. En una sesión posterior aprenderemos cómo estilizar nuestras gráficas a profundidad."
   ]
  },
  {
   "cell_type": "code",
   "execution_count": null,
   "metadata": {},
   "outputs": [],
   "source": []
  }
 ],
 "metadata": {
  "kernelspec": {
   "display_name": "Python 3",
   "language": "python",
   "name": "python3"
  },
  "language_info": {
   "codemirror_mode": {
    "name": "ipython",
    "version": 3
   },
   "file_extension": ".py",
   "mimetype": "text/x-python",
   "name": "python",
   "nbconvert_exporter": "python",
   "pygments_lexer": "ipython3",
   "version": "3.9.1"
  }
 },
 "nbformat": 4,
 "nbformat_minor": 4
}
