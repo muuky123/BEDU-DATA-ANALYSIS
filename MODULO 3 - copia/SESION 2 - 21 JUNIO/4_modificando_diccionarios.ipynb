{
 "cells": [
  {
   "cell_type": "markdown",
   "metadata": {},
   "source": [
    "## Ejemplo 4: Modificando diccionarios\n",
    "\n",
    "### 1. Objetivos:\n",
    "    - Practicar los 3 métodos básicos de modificación de diccionarios: agregar datos, modificar datos y borrar llaves.\n",
    " \n",
    "---\n",
    "    \n",
    "### 2. Desarrollo:"
   ]
  },
  {
   "cell_type": "markdown",
   "metadata": {},
   "source": [
    "Tenemos 3 maneras básicas de modificar nuestros diccionarios:"
   ]
  },
  {
   "cell_type": "markdown",
   "metadata": {},
   "source": [
    "#### Agregar datos\n",
    "\n",
    "Para agregar un dato a un diccionario ya existente, basta con \"llamar\" la llave que queremos agregar y asignarle un valor.\n",
    "\n",
    "Dado el siguiente diccionario, agrega el valor del email isabel@gmail.com e imprime el diccionario resultante:"
   ]
  },
  {
   "cell_type": "code",
   "execution_count": 1,
   "metadata": {},
   "outputs": [],
   "source": [
    "from pprint import pprint"
   ]
  },
  {
   "cell_type": "code",
   "execution_count": 16,
   "metadata": {},
   "outputs": [
    {
     "name": "stdout",
     "output_type": "stream",
     "text": [
      "{'dir': {'calle': 'Pilares',\n",
      "         'colonia': 'Del Valle Centro',\n",
      "         'cp': '03100',\n",
      "         'num': 69},\n",
      " 'nombre': 'Isabel',\n",
      " 'tel': 5546352431}\n"
     ]
    }
   ],
   "source": [
    "info_de_contacto = {\n",
    "    \"nombre\": \"Isabel\",\n",
    "    \"tel\": 5546352431,\n",
    "    \"dir\": {\n",
    "        \"colonia\": \"Del Valle Centro\",\n",
    "        \"calle\": \"Pilares\",\n",
    "        \"num\": 69,\n",
    "        \"cp\": \"03100\"\n",
    "    }\n",
    "}\n",
    "\n",
    "pprint(info_de_contacto)"
   ]
  },
  {
   "cell_type": "code",
   "execution_count": 17,
   "metadata": {},
   "outputs": [
    {
     "name": "stdout",
     "output_type": "stream",
     "text": [
      "{'dir': {'calle': 'Pilares',\n",
      "         'colonia': 'Del Valle Centro',\n",
      "         'cp': '03100',\n",
      "         'num': 69},\n",
      " 'email': 'isabel@gmail.com',\n",
      " 'nombre': 'Isabel',\n",
      " 'tel': 5546352431}\n"
     ]
    }
   ],
   "source": [
    "info_de_contacto[\"email\"] = \"isabel@gmail.com\"\n",
    "pprint(info_de_contacto)"
   ]
  },
  {
   "cell_type": "markdown",
   "metadata": {},
   "source": [
    "#### Modificar pares llave-valor existentes\n",
    "\n",
    "Para modificar un par llave-valor ya existente, basta con reasignar a una llave de nuestro diccionario el nuevo valor que queremos agregar. Por ejemplo, imaginemos que el número de la casa de la dirección no es 69, si no 96, realiza el cambio e imprime el resultado:"
   ]
  },
  {
   "cell_type": "code",
   "execution_count": 18,
   "metadata": {},
   "outputs": [
    {
     "data": {
      "text/plain": [
       "{'nombre': 'Isabel',\n",
       " 'tel': 5546352431,\n",
       " 'dir': {'colonia': 'Del Valle Centro',\n",
       "  'calle': 'Pilares',\n",
       "  'num': 96,\n",
       "  'cp': '03100'},\n",
       " 'email': 'isabel@gmail.com'}"
      ]
     },
     "execution_count": 18,
     "metadata": {},
     "output_type": "execute_result"
    }
   ],
   "source": [
    "info_de_contacto[\"dir\"][\"num\"] = 96\n",
    "info_de_contacto"
   ]
  },
  {
   "cell_type": "markdown",
   "metadata": {},
   "source": [
    "#### Eliminando datos\n",
    "\n",
    "Para eliminar datos, se puede usar el método `pop`. Como bien recordarás, el nombre de este método es idéntico al método para eliminar elementos de una lista. La diferencia es que el método `pop` de las listas recibe índices como argumentos, el método `pop` de diccionarios recibe llaves como argumentos, así que vamos a eliminar el número de teléfono:"
   ]
  },
  {
   "cell_type": "code",
   "execution_count": 25,
   "metadata": {},
   "outputs": [
    {
     "ename": "KeyError",
     "evalue": "'tel'",
     "output_type": "error",
     "traceback": [
      "\u001b[1;31m---------------------------------------------------------------------------\u001b[0m",
      "\u001b[1;31mKeyError\u001b[0m                                  Traceback (most recent call last)",
      "\u001b[1;32m<ipython-input-25-4878c698ed5e>\u001b[0m in \u001b[0;36m<module>\u001b[1;34m\u001b[0m\n\u001b[1;32m----> 1\u001b[1;33m \u001b[0mvalor\u001b[0m \u001b[1;33m=\u001b[0m \u001b[0minfo_de_contacto\u001b[0m\u001b[1;33m.\u001b[0m\u001b[0mpop\u001b[0m\u001b[1;33m(\u001b[0m\u001b[1;34m\"tel\"\u001b[0m\u001b[1;33m)\u001b[0m\u001b[1;33m\u001b[0m\u001b[1;33m\u001b[0m\u001b[0m\n\u001b[0m",
      "\u001b[1;31mKeyError\u001b[0m: 'tel'"
     ]
    }
   ],
   "source": [
    "valor = info_de_contacto.pop(\"tel\")"
   ]
  },
  {
   "cell_type": "code",
   "execution_count": 23,
   "metadata": {},
   "outputs": [
    {
     "name": "stdout",
     "output_type": "stream",
     "text": [
      "{'dir': {'calle': 'Pilares',\n",
      "         'colonia': 'Del Valle Centro',\n",
      "         'cp': '03100',\n",
      "         'num': 96},\n",
      " 'email': 'isabel@gmail.com',\n",
      " 'nombre': 'Isabel'}\n"
     ]
    }
   ],
   "source": [
    "pprint (info_de_contacto)"
   ]
  },
  {
   "cell_type": "code",
   "execution_count": 24,
   "metadata": {},
   "outputs": [
    {
     "name": "stdout",
     "output_type": "stream",
     "text": [
      "5546352431\n"
     ]
    }
   ],
   "source": [
    "print(valor)"
   ]
  },
  {
   "cell_type": "markdown",
   "metadata": {},
   "source": [
    "Vayamos ahora a nuestro cuarto Reto para practicar estas herramientas a profundidad.\n",
    "\n",
    "---"
   ]
  },
  {
   "cell_type": "markdown",
   "metadata": {},
   "source": [
    "## Reto 4: Modificando diccionarios\n",
    "\n",
    "### 1. Objetivos:\n",
    "    - Practicar agregar datos, modificar datos y eliminar datos de diccionarios\n",
    " \n",
    "### 2. Desarrollo:"
   ]
  },
  {
   "cell_type": "markdown",
   "metadata": {},
   "source": [
    "Debajo tienes un diccionario que contiene algo de información sobre una persona:"
   ]
  },
  {
   "cell_type": "code",
   "execution_count": 16,
   "metadata": {},
   "outputs": [
    {
     "data": {
      "text/plain": [
       "{'id': 'BOEK920515MSLNLT07',\n",
       " 'nombre': 'Kitzya',\n",
       " 'apellido_materno': 'Elizalde',\n",
       " 'apellido_paterno': 'Boon',\n",
       " 'profesion': 'Social Media Manager',\n",
       " 'ultimo_nivel_de_estudios': 'Licenciatura',\n",
       " 'lugar_de_estudios': 'Universidad Casa Blanca',\n",
       " 'fecha_de_nacimiento': '15 de Mayo de 1992',\n",
       " 'lugar_de_nacimiento': 'Culiacán'}"
      ]
     },
     "execution_count": 16,
     "metadata": {},
     "output_type": "execute_result"
    }
   ],
   "source": [
    "registro = {\n",
    "    \"id\": \"23f-58j-kju7-54re\",\n",
    "    \"nombre\": \"Alberto\",\n",
    "    \"apellido_materno\": \"Gutierrez\",\n",
    "    \"apellido_paterno\": \"Sosa\",\n",
    "    \"profesion\": \"Contador\",\n",
    "    \"ultimo_nivel_de_estudios\": \"Maestría\",\n",
    "    \"lugar_de_estudios\": \"UAM\",\n",
    "    \"numero_de_cuenta\": \"25367890\",\n",
    "    \"nip_de_cajero\": \"142\"\n",
    "}\n",
    "\n",
    "registro [\"id\"] = \"BOEK920515MSLNLT07\"\n",
    "registro [\"nombre\"] = \"Kitzya\"\n",
    "registro [\"apellido_materno\"] = \"Elizalde\"\n",
    "registro [\"apellido_paterno\"] = \"Boon\"\n",
    "registro [\"profesion\"] = \"Social Media Manager\"\n",
    "registro [\"ultimo_nivel_de_estudios\"] = \"Licenciatura\"\n",
    "registro [\"lugar_de_estudios\"] = \"Universidad Casa Blanca\"\n",
    "registro [\"numero_de_cuenta\"] = 123456789\n",
    "registro [\"nip_de_cajero\"] = 123\n",
    "\n",
    "registro[\"fecha_de_nacimiento\"] = \"15 de Mayo de 1992\"\n",
    "registro[\"lugar_de_nacimiento\"] = \"Culiacán\"\n",
    "\n",
    "registro.pop(\"nip_de_cajero\")\n",
    "registro.pop(\"numero_de_cuenta\")\n",
    "registro"
   ]
  },
  {
   "cell_type": "markdown",
   "metadata": {},
   "source": [
    "Ahora, tenemos una serie de `prints` que imprimen esta información en forma de tabla:"
   ]
  },
  {
   "cell_type": "code",
   "execution_count": 14,
   "metadata": {},
   "outputs": [
    {
     "name": "stdout",
     "output_type": "stream",
     "text": [
      "Registro con id: BOEK920515MSLNLT07\n",
      "\n",
      "---------------------------------------\n",
      "\n",
      "Nombre                    | Kitzya                   \n",
      "Apellido Materno          | Elizalde                 \n",
      "Apellido Paterno          | Boon                     \n",
      "Profesión                 | Social Media Manager     \n",
      "Último nivel de estudios  | Licenciatura             \n",
      "Lugar de estudios         | Universidad Casa Blanca  \n",
      "Fecha de nacimiento       | 15 de Mayo de 1992       \n",
      "Lugar de nacimiento       | Culiacán                 \n"
     ]
    }
   ],
   "source": [
    "print(f'Registro con id: {registro[\"id\"]}\\n')\n",
    "print(f'---------------------------------------\\n')\n",
    "print(f'{(\"Nombre\"):25} | {registro[\"nombre\"]:25}')\n",
    "print(f'{(\"Apellido Materno\"):25} | {registro[\"apellido_materno\"]:25}')\n",
    "print(f'{(\"Apellido Paterno\"):25} | {registro[\"apellido_paterno\"]:25}')\n",
    "print(f'{(\"Profesión\"):25} | {registro[\"profesion\"]:25}')\n",
    "print(f'{(\"Último nivel de estudios\"):25} | {registro[\"ultimo_nivel_de_estudios\"]:25}')\n",
    "print(f'{(\"Lugar de estudios\"):25} | {registro[\"lugar_de_estudios\"]:25}')\n",
    "print(f'{(\"Fecha de nacimiento\"):25} | {registro[\"fecha_de_nacimiento\"]:25}')\n",
    "print(f'{(\"Lugar de nacimiento\"):25} | {registro[\"lugar_de_nacimiento\"]:25}')"
   ]
  },
  {
   "cell_type": "markdown",
   "metadata": {},
   "source": [
    "El reto tienen 3 partes y todas las operaciones se realizan **sin modificar directamente el diccionario original**, en su lugar hacer lo siguiente:\n",
    "\n",
    "1. Usando la técnica para modificar valores en un diccionario, cambia la información del diccionario para que sea la tuya.\n",
    "2. Usando la técnica para agregar datos al diccionario agrega las llaves que estén siendo accesadas en el `print` pero que no han sido agregadas al diccionario.\n",
    "3. Usando la técnica para eliminar datos del diccionario, elimina los datos sensibles que no quieras que estén incluidos en el diccionario."
   ]
  }
 ],
 "metadata": {
  "kernelspec": {
   "display_name": "Python 3",
   "language": "python",
   "name": "python3"
  },
  "language_info": {
   "codemirror_mode": {
    "name": "ipython",
    "version": 3
   },
   "file_extension": ".py",
   "mimetype": "text/x-python",
   "name": "python",
   "nbconvert_exporter": "python",
   "pygments_lexer": "ipython3",
   "version": "3.9.1"
  }
 },
 "nbformat": 4,
 "nbformat_minor": 4
}
